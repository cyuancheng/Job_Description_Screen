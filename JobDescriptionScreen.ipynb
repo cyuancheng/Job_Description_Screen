{
  "nbformat": 4,
  "nbformat_minor": 0,
  "metadata": {
    "colab": {
      "name": "JobDescriptionScreen.ipynb",
      "provenance": []
    },
    "kernelspec": {
      "name": "python3",
      "display_name": "Python 3"
    },
    "accelerator": "GPU"
  },
  "cells": [
    {
      "cell_type": "markdown",
      "metadata": {
        "id": "S70-Gw3GnwYz",
        "colab_type": "text"
      },
      "source": [
        "### Job description screening by NLP\n",
        "Chiyuan Cheng\n",
        "- objective:\n",
        "  - load job description in google sheet and find the matching keywords by NLP\n",
        "  - A small project for information extraction\n"
      ]
    },
    {
      "cell_type": "markdown",
      "metadata": {
        "id": "MJHtEX0Q2X9G",
        "colab_type": "text"
      },
      "source": [
        "#### Python package"
      ]
    },
    {
      "cell_type": "code",
      "metadata": {
        "id": "BVGkWqYpl4zX",
        "colab_type": "code",
        "colab": {}
      },
      "source": [
        "#importing all required libraries\n",
        "from google.colab import auth\n",
        "auth.authenticate_user()\n",
        "import gspread\n",
        "from oauth2client.client import GoogleCredentials\n",
        "gc = gspread.authorize(GoogleCredentials.get_application_default())"
      ],
      "execution_count": 0,
      "outputs": []
    },
    {
      "cell_type": "code",
      "metadata": {
        "id": "ZQfdNyFJmqvM",
        "colab_type": "code",
        "outputId": "f04e4b47-5c4e-4a76-eeb6-ad846c6113f1",
        "colab": {
          "base_uri": "https://localhost:8080/",
          "height": 80
        }
      },
      "source": [
        "import os\n",
        "from os import listdir\n",
        "from os.path import isfile, join\n",
        "from io import StringIO\n",
        "\n",
        "# NLP package\n",
        "import re\n",
        "import string\n",
        "import spacy #use NLP functions\n",
        "from spacy import displacy\n",
        "import en_core_web_sm # pre-train model\n",
        "nlp = en_core_web_sm.load()\n",
        "from spacy.matcher import PhraseMatcher\n",
        "import nltk #NLP data processing library (IMDB)\n",
        "from nltk import word_tokenize, sent_tokenize\n",
        "from nltk.corpus import stopwords\n",
        "from nltk.stem.porter import *\n",
        "import gensim\n",
        "from gensim.models.word2vec import Word2Vec\n",
        "from gensim.models.phrases import Phraser, Phrases # phraser optimizes phrases\n",
        "# ML package\n",
        "from keras.preprocessing.text import one_hot # relation\n",
        "from textblob import TextBlob\n",
        "from sklearn.manifold import TSNE\n",
        "from keras.preprocessing.text import one_hot # relation\n",
        "from collections import Counter\n",
        "# general package\n",
        "import numpy as np\n",
        "import pandas as pd\n",
        "import seaborn as sns\n",
        "import matplotlib.pyplot as plt\n",
        "from bokeh.io import output_notebook, output_file\n",
        "from bokeh.plotting import show, figure\n"
      ],
      "execution_count": 0,
      "outputs": [
        {
          "output_type": "stream",
          "text": [
            "Using TensorFlow backend.\n"
          ],
          "name": "stderr"
        },
        {
          "output_type": "display_data",
          "data": {
            "text/html": [
              "<p style=\"color: red;\">\n",
              "The default version of TensorFlow in Colab will soon switch to TensorFlow 2.x.<br>\n",
              "We recommend you <a href=\"https://www.tensorflow.org/guide/migrate\" target=\"_blank\">upgrade</a> now \n",
              "or ensure your notebook will continue to use TensorFlow 1.x via the <code>%tensorflow_version 1.x</code> magic:\n",
              "<a href=\"https://colab.research.google.com/notebooks/tensorflow_version.ipynb\" target=\"_blank\">more info</a>.</p>\n"
            ],
            "text/plain": [
              "<IPython.core.display.HTML object>"
            ]
          },
          "metadata": {
            "tags": []
          }
        }
      ]
    },
    {
      "cell_type": "code",
      "metadata": {
        "id": "-i-iBtmyElWI",
        "colab_type": "code",
        "outputId": "52904a44-8ef6-453f-948b-158a28279de1",
        "colab": {
          "base_uri": "https://localhost:8080/",
          "height": 190
        }
      },
      "source": [
        "!pip install inflection\n",
        "import inflection as inf"
      ],
      "execution_count": 0,
      "outputs": [
        {
          "output_type": "stream",
          "text": [
            "Collecting inflection\n",
            "  Downloading https://files.pythonhosted.org/packages/d5/35/a6eb45b4e2356fe688b21570864d4aa0d0a880ce387defe9c589112077f8/inflection-0.3.1.tar.gz\n",
            "Building wheels for collected packages: inflection\n",
            "  Building wheel for inflection (setup.py) ... \u001b[?25l\u001b[?25hdone\n",
            "  Created wheel for inflection: filename=inflection-0.3.1-cp36-none-any.whl size=6076 sha256=f84be78297751febab2b40d90e38f1b40a9310e63d0d2f8d36bf60485be62270\n",
            "  Stored in directory: /root/.cache/pip/wheels/9f/5a/d3/6fc3bf6516d2a3eb7e18f9f28b472110b59325f3f258fe9211\n",
            "Successfully built inflection\n",
            "Installing collected packages: inflection\n",
            "Successfully installed inflection-0.3.1\n"
          ],
          "name": "stdout"
        }
      ]
    },
    {
      "cell_type": "markdown",
      "metadata": {
        "id": "44ZKeSh1P4Dw",
        "colab_type": "text"
      },
      "source": [
        "#### Load data"
      ]
    },
    {
      "cell_type": "code",
      "metadata": {
        "id": "h_QZKnVgm_wu",
        "colab_type": "code",
        "colab": {}
      },
      "source": [
        "# load data from google sheet\n",
        "wb = gc.open_by_url('https://docs.google.com/spreadsheets/d/1_7xr5Wfe1Zxz31fRAg4HxM7579p7pLyv2DQeynqAeNQ/edit?folder=1Zdk9qp8mD6x93sdLr14SMf-iczSrlrsP#gid=0')"
      ],
      "execution_count": 0,
      "outputs": []
    },
    {
      "cell_type": "code",
      "metadata": {
        "id": "v1q7etvanhNp",
        "colab_type": "code",
        "colab": {}
      },
      "source": [
        "def load_googlesheet(sheetname):\n",
        "  '''\n",
        "  input sheetname\n",
        "  output pd.dataframe\n",
        "  '''\n",
        "  sheet = wb.worksheet(sheetname) # sheet name\n",
        "  data = sheet.get_all_values() # load sheet\n",
        "  df = pd.DataFrame(data)\n",
        "  df.columns = df.iloc[0]\n",
        "  df = df.iloc[1:]\n",
        "  df=df.reset_index(drop=True)\n",
        "  return df"
      ],
      "execution_count": 0,
      "outputs": []
    },
    {
      "cell_type": "code",
      "metadata": {
        "id": "7ooYXR_TPVvn",
        "colab_type": "code",
        "colab": {}
      },
      "source": [
        "# data for job discription\n",
        "df_jd = load_googlesheet('Sheet1')\n",
        "# data for keywords\n",
        "df_kw = load_googlesheet('keywords')"
      ],
      "execution_count": 0,
      "outputs": []
    },
    {
      "cell_type": "code",
      "metadata": {
        "id": "P9ySbvi8Mbvp",
        "colab_type": "code",
        "outputId": "46a57fa9-6f66-49c9-f650-14f40f8b4746",
        "colab": {
          "base_uri": "https://localhost:8080/",
          "height": 437
        }
      },
      "source": [
        "display(df_jd.head(3))\n",
        "display(df_kw.head(3))"
      ],
      "execution_count": 0,
      "outputs": [
        {
          "output_type": "display_data",
          "data": {
            "text/html": [
              "<div>\n",
              "<style scoped>\n",
              "    .dataframe tbody tr th:only-of-type {\n",
              "        vertical-align: middle;\n",
              "    }\n",
              "\n",
              "    .dataframe tbody tr th {\n",
              "        vertical-align: top;\n",
              "    }\n",
              "\n",
              "    .dataframe thead th {\n",
              "        text-align: right;\n",
              "    }\n",
              "</style>\n",
              "<table border=\"1\" class=\"dataframe\">\n",
              "  <thead>\n",
              "    <tr style=\"text-align: right;\">\n",
              "      <th></th>\n",
              "      <th>Financial</th>\n",
              "      <th>Healthcare</th>\n",
              "      <th>e-com</th>\n",
              "      <th>social media</th>\n",
              "      <th>consumer</th>\n",
              "      <th>Information</th>\n",
              "    </tr>\n",
              "  </thead>\n",
              "  <tbody>\n",
              "    <tr>\n",
              "      <th>0</th>\n",
              "      <td>Two Sigma, The Alpha Insights team at Two Sigm...</td>\n",
              "      <td>Novo Nordisk, The Clinical, Medical and Regula...</td>\n",
              "      <td>Walmart \\nA Staff Data Scientist is responsibl...</td>\n",
              "      <td>Facebook, We’re looking for Data Scientists to...</td>\n",
              "      <td>Uniliever, Background &amp; Purpose of the Job\\n\\n...</td>\n",
              "      <td>Google, Note: By applying to this position you...</td>\n",
              "    </tr>\n",
              "    <tr>\n",
              "      <th>1</th>\n",
              "      <td>Prudential Financial,\\n\\nAs we create a divers...</td>\n",
              "      <td>Aetna, Description:\\nIt’s a new day in health ...</td>\n",
              "      <td>Walmart, As a part of Walmart’s Customer Data ...</td>\n",
              "      <td>Facebook, With over 2.1 billion people, our co...</td>\n",
              "      <td>Verizon, What you’ll be doing...\\n\\nAs a data ...</td>\n",
              "      <td>Taped, Small Teams; Big Data\\n\\nWe are looking...</td>\n",
              "    </tr>\n",
              "    <tr>\n",
              "      <th>2</th>\n",
              "      <td>Machine Learning Research Scientist - Pattern ...</td>\n",
              "      <td>Health  is a well-funded healthcare technolog...</td>\n",
              "      <td>Amazon\\n\\nAre you seeking an environment where...</td>\n",
              "      <td>New York Times, The New York Times is a techno...</td>\n",
              "      <td>Colgate, \\n\\nDevelop data-driven approaches an...</td>\n",
              "      <td>At Bonobos, we’re redefining how customers bro...</td>\n",
              "    </tr>\n",
              "  </tbody>\n",
              "</table>\n",
              "</div>"
            ],
            "text/plain": [
              "0                                          Financial  ...                                        Information\n",
              "0  Two Sigma, The Alpha Insights team at Two Sigm...  ...  Google, Note: By applying to this position you...\n",
              "1  Prudential Financial,\\n\\nAs we create a divers...  ...  Taped, Small Teams; Big Data\\n\\nWe are looking...\n",
              "2  Machine Learning Research Scientist - Pattern ...  ...  At Bonobos, we’re redefining how customers bro...\n",
              "\n",
              "[3 rows x 6 columns]"
            ]
          },
          "metadata": {
            "tags": []
          }
        },
        {
          "output_type": "display_data",
          "data": {
            "text/html": [
              "<div>\n",
              "<style scoped>\n",
              "    .dataframe tbody tr th:only-of-type {\n",
              "        vertical-align: middle;\n",
              "    }\n",
              "\n",
              "    .dataframe tbody tr th {\n",
              "        vertical-align: top;\n",
              "    }\n",
              "\n",
              "    .dataframe thead th {\n",
              "        text-align: right;\n",
              "    }\n",
              "</style>\n",
              "<table border=\"1\" class=\"dataframe\">\n",
              "  <thead>\n",
              "    <tr style=\"text-align: right;\">\n",
              "      <th></th>\n",
              "      <th>statistics</th>\n",
              "      <th>machine learning</th>\n",
              "      <th>deep learning</th>\n",
              "      <th>python langugage</th>\n",
              "      <th>R language</th>\n",
              "      <th>nlp</th>\n",
              "      <th>data engineering</th>\n",
              "      <th>cloud</th>\n",
              "      <th>visualization</th>\n",
              "      <th>soft skills</th>\n",
              "      <th>computer vision</th>\n",
              "      <th>Degree</th>\n",
              "    </tr>\n",
              "  </thead>\n",
              "  <tbody>\n",
              "    <tr>\n",
              "      <th>0</th>\n",
              "      <td>statistical models</td>\n",
              "      <td>linear regression</td>\n",
              "      <td>neural network</td>\n",
              "      <td>flask</td>\n",
              "      <td>R</td>\n",
              "      <td>natural language processing</td>\n",
              "      <td></td>\n",
              "      <td>aws</td>\n",
              "      <td>matplotlib</td>\n",
              "      <td>Communication</td>\n",
              "      <td>computer vision</td>\n",
              "      <td>Bachelor</td>\n",
              "    </tr>\n",
              "    <tr>\n",
              "      <th>1</th>\n",
              "      <td>statistical modeling</td>\n",
              "      <td>logestic regression</td>\n",
              "      <td>keras</td>\n",
              "      <td>pandas</td>\n",
              "      <td>ggplot</td>\n",
              "      <td>topic modeling</td>\n",
              "      <td>transform</td>\n",
              "      <td>ecs</td>\n",
              "      <td>seaborn</td>\n",
              "      <td>experience</td>\n",
              "      <td>image</td>\n",
              "      <td>Master</td>\n",
              "    </tr>\n",
              "    <tr>\n",
              "      <th>2</th>\n",
              "      <td>probability</td>\n",
              "      <td>k means</td>\n",
              "      <td>theano</td>\n",
              "      <td>numpy</td>\n",
              "      <td>shiny</td>\n",
              "      <td>lda</td>\n",
              "      <td>extraction</td>\n",
              "      <td>redshift</td>\n",
              "      <td>visualization</td>\n",
              "      <td>outside the box</td>\n",
              "      <td>imaging</td>\n",
              "      <td>phd</td>\n",
              "    </tr>\n",
              "  </tbody>\n",
              "</table>\n",
              "</div>"
            ],
            "text/plain": [
              "0            statistics     machine learning  ... computer vision     Degree\n",
              "0    statistical models    linear regression  ...  computer vision  Bachelor\n",
              "1  statistical modeling  logestic regression  ...            image    Master\n",
              "2           probability              k means  ...          imaging       phd\n",
              "\n",
              "[3 rows x 12 columns]"
            ]
          },
          "metadata": {
            "tags": []
          }
        }
      ]
    },
    {
      "cell_type": "markdown",
      "metadata": {
        "id": "BFELn4z9P6iI",
        "colab_type": "text"
      },
      "source": [
        "#### Text Preprocessing"
      ]
    },
    {
      "cell_type": "code",
      "metadata": {
        "id": "4ur66_Ux2lpV",
        "colab_type": "code",
        "colab": {}
      },
      "source": [
        "df_clean = df_jd.copy()"
      ],
      "execution_count": 0,
      "outputs": []
    },
    {
      "cell_type": "code",
      "metadata": {
        "id": "_DAb3JwQn8YM",
        "colab_type": "code",
        "colab": {}
      },
      "source": [
        "def rm_punc_lc(data):\n",
        "  '''\n",
        "  remove punctuations and conver to lowercase\n",
        "  '''\n",
        "  result_punctuation = string.punctuation + str('\\n') + str('\\r')\n",
        "  for names in data.columns:\n",
        "    for i in range(data[names].shape[0]):\n",
        "      for char in data[names][i]:\n",
        "        if char in result_punctuation:\n",
        "          data[names][i] = data[names][i].replace(char, \" \")\n",
        "      data[names][i] = data[names][i].lower()#\n",
        "  return data"
      ],
      "execution_count": 0,
      "outputs": []
    },
    {
      "cell_type": "code",
      "metadata": {
        "id": "K6ugCIKBmoO6",
        "colab_type": "code",
        "outputId": "091cd3ee-678f-4988-d4c0-0f5f82d3bdae",
        "colab": {
          "base_uri": "https://localhost:8080/",
          "height": 306
        }
      },
      "source": [
        "df_jd_clean = rm_punc_lc(df_jd)\n",
        "df_jd_clean.head()"
      ],
      "execution_count": 0,
      "outputs": [
        {
          "output_type": "execute_result",
          "data": {
            "text/html": [
              "<div>\n",
              "<style scoped>\n",
              "    .dataframe tbody tr th:only-of-type {\n",
              "        vertical-align: middle;\n",
              "    }\n",
              "\n",
              "    .dataframe tbody tr th {\n",
              "        vertical-align: top;\n",
              "    }\n",
              "\n",
              "    .dataframe thead th {\n",
              "        text-align: right;\n",
              "    }\n",
              "</style>\n",
              "<table border=\"1\" class=\"dataframe\">\n",
              "  <thead>\n",
              "    <tr style=\"text-align: right;\">\n",
              "      <th></th>\n",
              "      <th>Financial</th>\n",
              "      <th>Healthcare</th>\n",
              "      <th>e-com</th>\n",
              "      <th>social media</th>\n",
              "      <th>consumer</th>\n",
              "      <th>Information</th>\n",
              "    </tr>\n",
              "  </thead>\n",
              "  <tbody>\n",
              "    <tr>\n",
              "      <th>0</th>\n",
              "      <td>two sigma  the alpha insights team at two sigm...</td>\n",
              "      <td>novo nordisk  the clinical  medical and regula...</td>\n",
              "      <td>walmart  a staff data scientist is responsible...</td>\n",
              "      <td>facebook  we’re looking for data scientists to...</td>\n",
              "      <td>uniliever  background   purpose of the job  as...</td>\n",
              "      <td>google  note  by applying to this position you...</td>\n",
              "    </tr>\n",
              "    <tr>\n",
              "      <th>1</th>\n",
              "      <td>prudential financial   as we create a diverse ...</td>\n",
              "      <td>aetna  description  it’s a new day in health c...</td>\n",
              "      <td>walmart  as a part of walmart’s customer data ...</td>\n",
              "      <td>facebook  with over 2 1 billion people  our co...</td>\n",
              "      <td>verizon  what you’ll be doing     as a data sc...</td>\n",
              "      <td>taped  small teams  big data  we are looking f...</td>\n",
              "    </tr>\n",
              "    <tr>\n",
              "      <th>2</th>\n",
              "      <td>machine learning research scientist   pattern ...</td>\n",
              "      <td>health  is a well funded healthcare technolog...</td>\n",
              "      <td>amazon  are you seeking an environment where y...</td>\n",
              "      <td>new york times  the new york times is a techno...</td>\n",
              "      <td>colgate    develop data driven approaches and ...</td>\n",
              "      <td>at bonobos  we’re redefining how customers bro...</td>\n",
              "    </tr>\n",
              "    <tr>\n",
              "      <th>3</th>\n",
              "      <td>venmo was founded on the principles of breaki...</td>\n",
              "      <td>oscar  hi  we re oscar  we re hiring a data sc...</td>\n",
              "      <td>amazon  description  amazon is looking for a p...</td>\n",
              "      <td>wolters kluwer  data scientist – r0006015  wol...</td>\n",
              "      <td>as a data scientist  you ll utilize advanced q...</td>\n",
              "      <td></td>\n",
              "    </tr>\n",
              "    <tr>\n",
              "      <th>4</th>\n",
              "      <td>sofi  sofi is a digital personal finance compa...</td>\n",
              "      <td>oscar  hi  we re oscar  we re hiring a data sc...</td>\n",
              "      <td>amazon  where will amazon s growth come from i...</td>\n",
              "      <td>bloomberg  news and social media move financia...</td>\n",
              "      <td></td>\n",
              "      <td></td>\n",
              "    </tr>\n",
              "  </tbody>\n",
              "</table>\n",
              "</div>"
            ],
            "text/plain": [
              "0                                          Financial  ...                                        Information\n",
              "0  two sigma  the alpha insights team at two sigm...  ...  google  note  by applying to this position you...\n",
              "1  prudential financial   as we create a diverse ...  ...  taped  small teams  big data  we are looking f...\n",
              "2  machine learning research scientist   pattern ...  ...  at bonobos  we’re redefining how customers bro...\n",
              "3   venmo was founded on the principles of breaki...  ...                                                   \n",
              "4  sofi  sofi is a digital personal finance compa...  ...                                                   \n",
              "\n",
              "[5 rows x 6 columns]"
            ]
          },
          "metadata": {
            "tags": []
          },
          "execution_count": 10
        }
      ]
    },
    {
      "cell_type": "code",
      "metadata": {
        "id": "iqhbQuBCDTw1",
        "colab_type": "code",
        "colab": {}
      },
      "source": [
        "# singularize\n",
        "import inflection as inf\n",
        "for i in range(df_jd_clean.shape[1]):\n",
        "  df_jd_clean.iloc[:,i] = df_jd_clean.iloc[:,i].apply(lambda x: ' '.join([inf.singularize(item) for item in x.split()]))"
      ],
      "execution_count": 0,
      "outputs": []
    },
    {
      "cell_type": "code",
      "metadata": {
        "id": "h4pJFQCNGhAb",
        "colab_type": "code",
        "outputId": "54e82e17-5ec2-4c79-e74d-9b70eee79ab2",
        "colab": {
          "base_uri": "https://localhost:8080/",
          "height": 54
        }
      },
      "source": [
        "df_jd_clean.iloc[1,0]"
      ],
      "execution_count": 0,
      "outputs": [
        {
          "output_type": "execute_result",
          "data": {
            "text/plain": [
              "'prudential financial a we create a diverse growing and dynamic workforce within a technology community that  respected for delivering high tech solution datum driven solution are at the core of it all to thi end isg technology i seeking a qualified senior datum scientist with experience in designing solution to business problem using machine learning big datum technique and technology the ideal candidate i a datum driven problem solver with an ability to translate business requirement into mathematical model the candidate will also have an ability to develop solution to complex mathematical and datum problem discover insight and identify opportunity through the use of statistical algorithmic datum mining and visualization technique partnering with a team of technology and business datum specialist the candidate will use their analytic and engineering skill to integrate and prepare large varied dataset and architecting specialized solution in cloud environment employing a range of machine learning and datum science technique while effectively communicating result to variou interested party thi i a dynamic environment where the right candidate will be comfortable and capable of operating in “test and learn” mode and work independently utilize emerging datum technology and technique to solve datum driven problem lead influence and participate in the end to end datum lifecycle activity identify business problem engage with business team build hypothesis define and build compute environment and automated datum pipeline drive datum engineering activity discovery sourcing wrangling cleansing and modeling apply machine learning technique and variou algorithm to provide problem solving insight create meaningful insight through datum visualization simple effective result communication work a a liaison between business partner and junior datum scientist to refine datum science activity participate in management meeting to help establish datum roadmap and strategy experience with algorithm and programming to efficiently process large dataset and apply treatment filter and condition to your datum experience with big datum technology such a hadoop 2 0 hbase mongo informatica cloudera vertica green plum netezza proficient with practical experience with datum engineering datum discovery cleansing wrangling and modeling the ability to organize and “wrangle” large dataset so that you can get actionable insight from them thi may include finding innovative way to combine field of datum that don’t naturally mesh together experience defining and creating automated datum pipeline and performing advanced datum manipulation interest in understanding the business problem and how the work impact the business enthusiastic yet humble – you are excited about the work you do but you are also humble enough to embrace feedback – you don’t need to be the smartest person in the room experience with machine learning method technique and algorithm classification and regression clustering decision tree neural network time series analysis etc firm understanding of statistic statistical test distribution maximum likelihood estimator etc experience with visualization and reporting technology such a tableau power bi and or programmatic visualization in plotly sa python etc the ability to create meaningful datum visualization that communicate your finding and demonstrate how your insight create business impact excellent written and verbal communication skill an entrepreneurial mindset with the ability to adopt novel solution in a fast paced environment to deliver result quickly help junior team member along the way able to work collaboratively a a senior member of the team but with creative and individual thinking previou experience in working in high growth datum driven and or innovative business experience with lean and or scrum development methodology a plu m or phd in computer science math or engineering or other quantitative field work experience can substitute for experience experience with time series analysis i a plu experience with aw machine learning suite of tool i a plu experience with applying datum science to problem in insurance and or other financial industry i a plu experience with analyzing datum from social medium platform a plu knowledge of image datum analysis and computer vision a plu knowledge of natural language processing a plu'"
            ]
          },
          "metadata": {
            "tags": []
          },
          "execution_count": 12
        }
      ]
    },
    {
      "cell_type": "code",
      "metadata": {
        "id": "-d91sLyaC-pp",
        "colab_type": "code",
        "colab": {}
      },
      "source": [
        "# clean text\n",
        "\n",
        "def clean_text(text):\n",
        "    \"\"\"\n",
        "        text: a string of the spouse column\n",
        "        return: modified initial string\n",
        "    \"\"\"\n",
        "\n",
        " \n",
        "    text = re.sub(r\"datum driven\", \" data-driven\", text)\n",
        "    text = re.sub(r\"datum\", \" data\", text)\n",
        "    text = re.sub(r\"metric\", \"metrics\", text)\n",
        "    text = re.sub(r\"statistic\", \"statistics\", text)\n",
        "    text = re.sub(r\"datum mining\", \"data-mining\", text)\n",
        "    text = re.sub(r\"his death\", \" de \", text)\n",
        "    text = re.sub(r\"died\", \" de \", text)\n",
        "    \n",
        "    #text = ' '.join(word for word in text.split() if word not in STOPWORDS) # remove stopwors from text\n",
        "    return text"
      ],
      "execution_count": 0,
      "outputs": []
    },
    {
      "cell_type": "code",
      "metadata": {
        "id": "2KZ7qwvKWnYM",
        "colab_type": "code",
        "outputId": "696cb1bd-506c-439d-b40d-44cdd5f20e49",
        "colab": {
          "base_uri": "https://localhost:8080/",
          "height": 340
        }
      },
      "source": [
        "df_kw_clean = rm_punc_lc(df_kw)\n",
        "df_kw_clean.head()"
      ],
      "execution_count": 0,
      "outputs": [
        {
          "output_type": "execute_result",
          "data": {
            "text/html": [
              "<div>\n",
              "<style scoped>\n",
              "    .dataframe tbody tr th:only-of-type {\n",
              "        vertical-align: middle;\n",
              "    }\n",
              "\n",
              "    .dataframe tbody tr th {\n",
              "        vertical-align: top;\n",
              "    }\n",
              "\n",
              "    .dataframe thead th {\n",
              "        text-align: right;\n",
              "    }\n",
              "</style>\n",
              "<table border=\"1\" class=\"dataframe\">\n",
              "  <thead>\n",
              "    <tr style=\"text-align: right;\">\n",
              "      <th></th>\n",
              "      <th>statistics</th>\n",
              "      <th>machine learning</th>\n",
              "      <th>deep learning</th>\n",
              "      <th>python langugage</th>\n",
              "      <th>R language</th>\n",
              "      <th>nlp</th>\n",
              "      <th>data engineering</th>\n",
              "      <th>cloud</th>\n",
              "      <th>visualization</th>\n",
              "      <th>soft skills</th>\n",
              "      <th>computer vision</th>\n",
              "      <th>Degree</th>\n",
              "    </tr>\n",
              "  </thead>\n",
              "  <tbody>\n",
              "    <tr>\n",
              "      <th>0</th>\n",
              "      <td>statistical models</td>\n",
              "      <td>linear regression</td>\n",
              "      <td>neural network</td>\n",
              "      <td>flask</td>\n",
              "      <td>r</td>\n",
              "      <td>natural language processing</td>\n",
              "      <td></td>\n",
              "      <td>aws</td>\n",
              "      <td>matplotlib</td>\n",
              "      <td>communication</td>\n",
              "      <td>computer vision</td>\n",
              "      <td>bachelor</td>\n",
              "    </tr>\n",
              "    <tr>\n",
              "      <th>1</th>\n",
              "      <td>statistical modeling</td>\n",
              "      <td>logestic regression</td>\n",
              "      <td>keras</td>\n",
              "      <td>pandas</td>\n",
              "      <td>ggplot</td>\n",
              "      <td>topic modeling</td>\n",
              "      <td>transform</td>\n",
              "      <td>ecs</td>\n",
              "      <td>seaborn</td>\n",
              "      <td>experience</td>\n",
              "      <td>image</td>\n",
              "      <td>master</td>\n",
              "    </tr>\n",
              "    <tr>\n",
              "      <th>2</th>\n",
              "      <td>probability</td>\n",
              "      <td>k means</td>\n",
              "      <td>theano</td>\n",
              "      <td>numpy</td>\n",
              "      <td>shiny</td>\n",
              "      <td>lda</td>\n",
              "      <td>extraction</td>\n",
              "      <td>redshift</td>\n",
              "      <td>visualization</td>\n",
              "      <td>outside the box</td>\n",
              "      <td>imaging</td>\n",
              "      <td>phd</td>\n",
              "    </tr>\n",
              "    <tr>\n",
              "      <th>3</th>\n",
              "      <td>normal distribution</td>\n",
              "      <td>random forest</td>\n",
              "      <td>neural networks</td>\n",
              "      <td>scikitlearn</td>\n",
              "      <td>cran</td>\n",
              "      <td>named entity recognition</td>\n",
              "      <td></td>\n",
              "      <td>s3</td>\n",
              "      <td>eda</td>\n",
              "      <td>problem solver</td>\n",
              "      <td></td>\n",
              "      <td></td>\n",
              "    </tr>\n",
              "    <tr>\n",
              "      <th>4</th>\n",
              "      <td>survival models</td>\n",
              "      <td>xgboost</td>\n",
              "      <td>convolutional neural network</td>\n",
              "      <td>sklearn</td>\n",
              "      <td>dplyr</td>\n",
              "      <td>pos tagging</td>\n",
              "      <td>docker</td>\n",
              "      <td>hadoop</td>\n",
              "      <td>tableau</td>\n",
              "      <td>problem solving</td>\n",
              "      <td></td>\n",
              "      <td></td>\n",
              "    </tr>\n",
              "  </tbody>\n",
              "</table>\n",
              "</div>"
            ],
            "text/plain": [
              "0            statistics     machine learning  ... computer vision     Degree\n",
              "0    statistical models    linear regression  ...  computer vision  bachelor\n",
              "1  statistical modeling  logestic regression  ...            image    master\n",
              "2           probability              k means  ...          imaging       phd\n",
              "3   normal distribution        random forest  ...                           \n",
              "4       survival models              xgboost  ...                           \n",
              "\n",
              "[5 rows x 12 columns]"
            ]
          },
          "metadata": {
            "tags": []
          },
          "execution_count": 14
        }
      ]
    },
    {
      "cell_type": "markdown",
      "metadata": {
        "id": "cBb8ZkCOokZ1",
        "colab_type": "text"
      },
      "source": [
        "#### stop words"
      ]
    },
    {
      "cell_type": "code",
      "metadata": {
        "id": "kyLdU2garrC3",
        "colab_type": "code",
        "outputId": "065d250c-6bd9-4023-a0cc-426784ac5b93",
        "colab": {
          "base_uri": "https://localhost:8080/",
          "height": 71
        }
      },
      "source": [
        "# print stop words from spacy\n",
        "nlp = en_core_web_sm.load()  # spacy language model\n",
        "stop_words = list(spacy.lang.en.stop_words.STOP_WORDS) #+ list(string.punctuation) \n",
        "stop_words.append('two')\n",
        "print(stop_words)\n",
        "print('numbers of stopwords =',len(stop_words))"
      ],
      "execution_count": 0,
      "outputs": [
        {
          "output_type": "stream",
          "text": [
            "['i', 'thereby', 'thence', 'here', 'only', 'several', 'hereafter', 'beyond', 'was', 'own', '’s', 'hereby', 'before', 'sometime', 'one', 'beforehand', 'which', '‘d', 'to', '’ve', 'below', 'mine', 'since', 'last', 'enough', 'along', 'when', 'therefore', 'herself', '’m', \"'ve\", 'much', 'four', 'they', 'else', 'never', 'often', 'into', 'serious', '‘re', 'but', 'anywhere', 'might', 'seeming', 'very', 'less', 'your', 'many', 'been', 'either', 'other', 'thereupon', 'third', 'somewhere', 'nobody', 'being', 'after', '‘m', 'fifteen', 'anyone', 'so', 'then', 'therein', 'various', 'whereafter', 'whatever', 'thereafter', \"n't\", 'however', 'anyhow', 'go', 'five', 'nowhere', 'such', 'most', 'hers', 'be', 'myself', 'neither', 'for', 'at', 'together', 'toward', 'via', 'in', 'she', '‘ll', 'somehow', 'and', 'say', 'another', 'this', 'himself', 'name', 'every', 'done', 'becomes', 'seemed', 'the', 'sixty', 'whose', 'regarding', 'whither', 'from', 'first', 'are', 'twenty', 'back', '’re', 'would', 'across', 'rather', 'really', 'unless', 'why', 'his', 'see', 'does', 'some', 'am', 'without', 'it', 'me', 'side', 'though', 'whether', 'all', 'seems', 'except', 'their', '’d', 'once', 'of', 'used', 'during', 'whole', 'amount', 'because', 'its', 'hereupon', 'off', 'thru', 'there', 'until', 'beside', 'few', 'itself', 'nor', 'yourself', 'who', 'namely', 'full', 'wherever', 'or', 'same', \"'ll\", 'could', 'although', 'he', '‘s', 'indeed', 'out', \"'m\", 'themselves', 'eight', 'former', 'again', 'each', 'no', 'around', 'were', 'front', 'these', 'hundred', 'two', 'will', 'if', 'both', 'above', 'cannot', 'down', 'due', 'call', 'had', 'herein', 'how', 'eleven', 'onto', 'should', 'up', 'anyway', 'forty', 'within', 'give', 'my', 'even', 'fifty', 'get', 'thus', 'where', 'elsewhere', 'by', 'those', 'too', 'while', 'also', 'whereupon', 're', 'over', 'whenever', 'whence', 'nevertheless', 'that', 'noone', 'ten', 'always', 'sometimes', 'more', 'put', 'moreover', \"'re\", 'take', 'become', 'everywhere', 'among', 'please', 'using', 'besides', 'became', 'afterwards', 'nine', 'may', 'per', 'well', 'n’t', 'amongst', 'perhaps', 'empty', 'none', 'show', 'as', 'seem', 'throughout', 'n‘t', 'made', 'an', 'bottom', 'than', 'we', 'us', 'whom', 'under', 'formerly', 'six', 'someone', 'him', 'any', 'has', 'move', 'meanwhile', 'ca', 'next', 'towards', 'part', 'through', 'twelve', 'yourselves', '’ll', 'ourselves', 'have', 'already', 'her', 'mostly', 'with', 'can', 'between', 'on', 'quite', 'latterly', 'you', 'becoming', 'top', 'latter', 'doing', 'nothing', \"'s\", 'otherwise', 'still', 'whereas', 'them', 'everything', 'our', 'hence', 'something', 'further', 'everyone', 'just', 'must', 'make', 'alone', 'what', \"'d\", 'ever', 'others', 'is', 'ours', 'a', 'whoever', 'three', 'yet', 'wherein', 'about', 'least', 'keep', 'whereby', 'almost', 'do', 'behind', '‘ve', 'anything', 'not', 'upon', 'now', 'did', 'against', 'yours', 'two']\n",
            "numbers of stopwords = 327\n"
          ],
          "name": "stdout"
        }
      ]
    },
    {
      "cell_type": "code",
      "metadata": {
        "id": "oBc7RB0fjvP4",
        "colab_type": "code",
        "colab": {}
      },
      "source": [
        "def filter_stop_word(data, column=0):\n",
        "  sent_no_stop=[]\n",
        "  for i in range(df_jd_clean.shape[0]):\n",
        "    for w in df_jd_clean.iloc[i,column].split():\n",
        "      if w not in stop_words:\n",
        "        sent_no_stop.append(w)\n",
        "  return sent_no_stop "
      ],
      "execution_count": 0,
      "outputs": []
    },
    {
      "cell_type": "code",
      "metadata": {
        "id": "Mq5Xw-zdkK6_",
        "colab_type": "code",
        "outputId": "e99a2d2f-864d-491f-f656-983211183c55",
        "colab": {
          "base_uri": "https://localhost:8080/",
          "height": 34
        }
      },
      "source": [
        "df_jd_clean.shape"
      ],
      "execution_count": 0,
      "outputs": [
        {
          "output_type": "execute_result",
          "data": {
            "text/plain": [
              "(17, 6)"
            ]
          },
          "metadata": {
            "tags": []
          },
          "execution_count": 17
        }
      ]
    },
    {
      "cell_type": "code",
      "metadata": {
        "id": "agtskdJrNq7r",
        "colab_type": "code",
        "outputId": "b57aed55-ffd2-4686-f4d1-66851a3ce34d",
        "colab": {
          "base_uri": "https://localhost:8080/",
          "height": 375
        }
      },
      "source": [
        "# Spell check using text blob (take about 10 mins)\n",
        "from textblob import TextBlob\n",
        "for i in range(df_jd_clean.shape[1]):\n",
        "  df_jd_clean.iloc[:,i].apply(lambda x: str(TextBlob(x).correct()));"
      ],
      "execution_count": 0,
      "outputs": [
        {
          "output_type": "error",
          "ename": "KeyboardInterrupt",
          "evalue": "ignored",
          "traceback": [
            "\u001b[0;31m---------------------------------------------------------------------------\u001b[0m",
            "\u001b[0;31mKeyboardInterrupt\u001b[0m                         Traceback (most recent call last)",
            "\u001b[0;32m<ipython-input-18-afc7026f0c95>\u001b[0m in \u001b[0;36m<module>\u001b[0;34m()\u001b[0m\n\u001b[1;32m      1\u001b[0m \u001b[0;32mfrom\u001b[0m \u001b[0mtextblob\u001b[0m \u001b[0;32mimport\u001b[0m \u001b[0mTextBlob\u001b[0m\u001b[0;34m\u001b[0m\u001b[0;34m\u001b[0m\u001b[0m\n\u001b[1;32m      2\u001b[0m \u001b[0;32mfor\u001b[0m \u001b[0mi\u001b[0m \u001b[0;32min\u001b[0m \u001b[0mrange\u001b[0m\u001b[0;34m(\u001b[0m\u001b[0mdf_jd_clean\u001b[0m\u001b[0;34m.\u001b[0m\u001b[0mshape\u001b[0m\u001b[0;34m[\u001b[0m\u001b[0;36m1\u001b[0m\u001b[0;34m]\u001b[0m\u001b[0;34m)\u001b[0m\u001b[0;34m:\u001b[0m\u001b[0;34m\u001b[0m\u001b[0;34m\u001b[0m\u001b[0m\n\u001b[0;32m----> 3\u001b[0;31m   \u001b[0mdf_jd_clean\u001b[0m\u001b[0;34m.\u001b[0m\u001b[0miloc\u001b[0m\u001b[0;34m[\u001b[0m\u001b[0;34m:\u001b[0m\u001b[0;34m,\u001b[0m\u001b[0mi\u001b[0m\u001b[0;34m]\u001b[0m\u001b[0;34m.\u001b[0m\u001b[0mapply\u001b[0m\u001b[0;34m(\u001b[0m\u001b[0;32mlambda\u001b[0m \u001b[0mx\u001b[0m\u001b[0;34m:\u001b[0m \u001b[0mstr\u001b[0m\u001b[0;34m(\u001b[0m\u001b[0mTextBlob\u001b[0m\u001b[0;34m(\u001b[0m\u001b[0mx\u001b[0m\u001b[0;34m)\u001b[0m\u001b[0;34m.\u001b[0m\u001b[0mcorrect\u001b[0m\u001b[0;34m(\u001b[0m\u001b[0;34m)\u001b[0m\u001b[0;34m)\u001b[0m\u001b[0;34m)\u001b[0m\u001b[0;34m;\u001b[0m\u001b[0;34m\u001b[0m\u001b[0;34m\u001b[0m\u001b[0m\n\u001b[0m",
            "\u001b[0;32m/usr/local/lib/python3.6/dist-packages/pandas/core/series.py\u001b[0m in \u001b[0;36mapply\u001b[0;34m(self, func, convert_dtype, args, **kwds)\u001b[0m\n\u001b[1;32m   4043\u001b[0m             \u001b[0;32melse\u001b[0m\u001b[0;34m:\u001b[0m\u001b[0;34m\u001b[0m\u001b[0;34m\u001b[0m\u001b[0m\n\u001b[1;32m   4044\u001b[0m                 \u001b[0mvalues\u001b[0m \u001b[0;34m=\u001b[0m \u001b[0mself\u001b[0m\u001b[0;34m.\u001b[0m\u001b[0mastype\u001b[0m\u001b[0;34m(\u001b[0m\u001b[0mobject\u001b[0m\u001b[0;34m)\u001b[0m\u001b[0;34m.\u001b[0m\u001b[0mvalues\u001b[0m\u001b[0;34m\u001b[0m\u001b[0;34m\u001b[0m\u001b[0m\n\u001b[0;32m-> 4045\u001b[0;31m                 \u001b[0mmapped\u001b[0m \u001b[0;34m=\u001b[0m \u001b[0mlib\u001b[0m\u001b[0;34m.\u001b[0m\u001b[0mmap_infer\u001b[0m\u001b[0;34m(\u001b[0m\u001b[0mvalues\u001b[0m\u001b[0;34m,\u001b[0m \u001b[0mf\u001b[0m\u001b[0;34m,\u001b[0m \u001b[0mconvert\u001b[0m\u001b[0;34m=\u001b[0m\u001b[0mconvert_dtype\u001b[0m\u001b[0;34m)\u001b[0m\u001b[0;34m\u001b[0m\u001b[0;34m\u001b[0m\u001b[0m\n\u001b[0m\u001b[1;32m   4046\u001b[0m \u001b[0;34m\u001b[0m\u001b[0m\n\u001b[1;32m   4047\u001b[0m         \u001b[0;32mif\u001b[0m \u001b[0mlen\u001b[0m\u001b[0;34m(\u001b[0m\u001b[0mmapped\u001b[0m\u001b[0;34m)\u001b[0m \u001b[0;32mand\u001b[0m \u001b[0misinstance\u001b[0m\u001b[0;34m(\u001b[0m\u001b[0mmapped\u001b[0m\u001b[0;34m[\u001b[0m\u001b[0;36m0\u001b[0m\u001b[0;34m]\u001b[0m\u001b[0;34m,\u001b[0m \u001b[0mSeries\u001b[0m\u001b[0;34m)\u001b[0m\u001b[0;34m:\u001b[0m\u001b[0;34m\u001b[0m\u001b[0;34m\u001b[0m\u001b[0m\n",
            "\u001b[0;32mpandas/_libs/lib.pyx\u001b[0m in \u001b[0;36mpandas._libs.lib.map_infer\u001b[0;34m()\u001b[0m\n",
            "\u001b[0;32m<ipython-input-18-afc7026f0c95>\u001b[0m in \u001b[0;36m<lambda>\u001b[0;34m(x)\u001b[0m\n\u001b[1;32m      1\u001b[0m \u001b[0;32mfrom\u001b[0m \u001b[0mtextblob\u001b[0m \u001b[0;32mimport\u001b[0m \u001b[0mTextBlob\u001b[0m\u001b[0;34m\u001b[0m\u001b[0;34m\u001b[0m\u001b[0m\n\u001b[1;32m      2\u001b[0m \u001b[0;32mfor\u001b[0m \u001b[0mi\u001b[0m \u001b[0;32min\u001b[0m \u001b[0mrange\u001b[0m\u001b[0;34m(\u001b[0m\u001b[0mdf_jd_clean\u001b[0m\u001b[0;34m.\u001b[0m\u001b[0mshape\u001b[0m\u001b[0;34m[\u001b[0m\u001b[0;36m1\u001b[0m\u001b[0;34m]\u001b[0m\u001b[0;34m)\u001b[0m\u001b[0;34m:\u001b[0m\u001b[0;34m\u001b[0m\u001b[0;34m\u001b[0m\u001b[0m\n\u001b[0;32m----> 3\u001b[0;31m   \u001b[0mdf_jd_clean\u001b[0m\u001b[0;34m.\u001b[0m\u001b[0miloc\u001b[0m\u001b[0;34m[\u001b[0m\u001b[0;34m:\u001b[0m\u001b[0;34m,\u001b[0m\u001b[0mi\u001b[0m\u001b[0;34m]\u001b[0m\u001b[0;34m.\u001b[0m\u001b[0mapply\u001b[0m\u001b[0;34m(\u001b[0m\u001b[0;32mlambda\u001b[0m \u001b[0mx\u001b[0m\u001b[0;34m:\u001b[0m \u001b[0mstr\u001b[0m\u001b[0;34m(\u001b[0m\u001b[0mTextBlob\u001b[0m\u001b[0;34m(\u001b[0m\u001b[0mx\u001b[0m\u001b[0;34m)\u001b[0m\u001b[0;34m.\u001b[0m\u001b[0mcorrect\u001b[0m\u001b[0;34m(\u001b[0m\u001b[0;34m)\u001b[0m\u001b[0;34m)\u001b[0m\u001b[0;34m)\u001b[0m\u001b[0;34m;\u001b[0m\u001b[0;34m\u001b[0m\u001b[0;34m\u001b[0m\u001b[0m\n\u001b[0m",
            "\u001b[0;32m/usr/local/lib/python3.6/dist-packages/textblob/blob.py\u001b[0m in \u001b[0;36mcorrect\u001b[0;34m(self)\u001b[0m\n\u001b[1;32m    578\u001b[0m         \u001b[0mtokens\u001b[0m \u001b[0;34m=\u001b[0m \u001b[0mnltk\u001b[0m\u001b[0;34m.\u001b[0m\u001b[0mtokenize\u001b[0m\u001b[0;34m.\u001b[0m\u001b[0mregexp_tokenize\u001b[0m\u001b[0;34m(\u001b[0m\u001b[0mself\u001b[0m\u001b[0;34m.\u001b[0m\u001b[0mraw\u001b[0m\u001b[0;34m,\u001b[0m \u001b[0;34mr\"\\w+|[^\\w\\s]|\\s\"\u001b[0m\u001b[0;34m)\u001b[0m\u001b[0;34m\u001b[0m\u001b[0;34m\u001b[0m\u001b[0m\n\u001b[1;32m    579\u001b[0m         \u001b[0mcorrected\u001b[0m \u001b[0;34m=\u001b[0m \u001b[0;34m(\u001b[0m\u001b[0mWord\u001b[0m\u001b[0;34m(\u001b[0m\u001b[0mw\u001b[0m\u001b[0;34m)\u001b[0m\u001b[0;34m.\u001b[0m\u001b[0mcorrect\u001b[0m\u001b[0;34m(\u001b[0m\u001b[0;34m)\u001b[0m \u001b[0;32mfor\u001b[0m \u001b[0mw\u001b[0m \u001b[0;32min\u001b[0m \u001b[0mtokens\u001b[0m\u001b[0;34m)\u001b[0m\u001b[0;34m\u001b[0m\u001b[0;34m\u001b[0m\u001b[0m\n\u001b[0;32m--> 580\u001b[0;31m         \u001b[0mret\u001b[0m \u001b[0;34m=\u001b[0m \u001b[0;34m''\u001b[0m\u001b[0;34m.\u001b[0m\u001b[0mjoin\u001b[0m\u001b[0;34m(\u001b[0m\u001b[0mcorrected\u001b[0m\u001b[0;34m)\u001b[0m\u001b[0;34m\u001b[0m\u001b[0;34m\u001b[0m\u001b[0m\n\u001b[0m\u001b[1;32m    581\u001b[0m         \u001b[0;32mreturn\u001b[0m \u001b[0mself\u001b[0m\u001b[0;34m.\u001b[0m\u001b[0m__class__\u001b[0m\u001b[0;34m(\u001b[0m\u001b[0mret\u001b[0m\u001b[0;34m)\u001b[0m\u001b[0;34m\u001b[0m\u001b[0;34m\u001b[0m\u001b[0m\n\u001b[1;32m    582\u001b[0m \u001b[0;34m\u001b[0m\u001b[0m\n",
            "\u001b[0;32m/usr/local/lib/python3.6/dist-packages/textblob/blob.py\u001b[0m in \u001b[0;36m<genexpr>\u001b[0;34m(.0)\u001b[0m\n\u001b[1;32m    577\u001b[0m         \u001b[0;31m# regex matches: word or punctuation or whitespace\u001b[0m\u001b[0;34m\u001b[0m\u001b[0;34m\u001b[0m\u001b[0;34m\u001b[0m\u001b[0m\n\u001b[1;32m    578\u001b[0m         \u001b[0mtokens\u001b[0m \u001b[0;34m=\u001b[0m \u001b[0mnltk\u001b[0m\u001b[0;34m.\u001b[0m\u001b[0mtokenize\u001b[0m\u001b[0;34m.\u001b[0m\u001b[0mregexp_tokenize\u001b[0m\u001b[0;34m(\u001b[0m\u001b[0mself\u001b[0m\u001b[0;34m.\u001b[0m\u001b[0mraw\u001b[0m\u001b[0;34m,\u001b[0m \u001b[0;34mr\"\\w+|[^\\w\\s]|\\s\"\u001b[0m\u001b[0;34m)\u001b[0m\u001b[0;34m\u001b[0m\u001b[0;34m\u001b[0m\u001b[0m\n\u001b[0;32m--> 579\u001b[0;31m         \u001b[0mcorrected\u001b[0m \u001b[0;34m=\u001b[0m \u001b[0;34m(\u001b[0m\u001b[0mWord\u001b[0m\u001b[0;34m(\u001b[0m\u001b[0mw\u001b[0m\u001b[0;34m)\u001b[0m\u001b[0;34m.\u001b[0m\u001b[0mcorrect\u001b[0m\u001b[0;34m(\u001b[0m\u001b[0;34m)\u001b[0m \u001b[0;32mfor\u001b[0m \u001b[0mw\u001b[0m \u001b[0;32min\u001b[0m \u001b[0mtokens\u001b[0m\u001b[0;34m)\u001b[0m\u001b[0;34m\u001b[0m\u001b[0;34m\u001b[0m\u001b[0m\n\u001b[0m\u001b[1;32m    580\u001b[0m         \u001b[0mret\u001b[0m \u001b[0;34m=\u001b[0m \u001b[0;34m''\u001b[0m\u001b[0;34m.\u001b[0m\u001b[0mjoin\u001b[0m\u001b[0;34m(\u001b[0m\u001b[0mcorrected\u001b[0m\u001b[0;34m)\u001b[0m\u001b[0;34m\u001b[0m\u001b[0;34m\u001b[0m\u001b[0m\n\u001b[1;32m    581\u001b[0m         \u001b[0;32mreturn\u001b[0m \u001b[0mself\u001b[0m\u001b[0;34m.\u001b[0m\u001b[0m__class__\u001b[0m\u001b[0;34m(\u001b[0m\u001b[0mret\u001b[0m\u001b[0;34m)\u001b[0m\u001b[0;34m\u001b[0m\u001b[0;34m\u001b[0m\u001b[0m\n",
            "\u001b[0;32m/usr/local/lib/python3.6/dist-packages/textblob/blob.py\u001b[0m in \u001b[0;36mcorrect\u001b[0;34m(self)\u001b[0m\n\u001b[1;32m    125\u001b[0m         \u001b[0;34m.\u001b[0m\u001b[0;34m.\u001b[0m \u001b[0mversionadded\u001b[0m\u001b[0;34m:\u001b[0m\u001b[0;34m:\u001b[0m \u001b[0;36m0.6\u001b[0m\u001b[0;36m.0\u001b[0m\u001b[0;34m\u001b[0m\u001b[0;34m\u001b[0m\u001b[0m\n\u001b[1;32m    126\u001b[0m         '''\n\u001b[0;32m--> 127\u001b[0;31m         \u001b[0;32mreturn\u001b[0m \u001b[0mWord\u001b[0m\u001b[0;34m(\u001b[0m\u001b[0mself\u001b[0m\u001b[0;34m.\u001b[0m\u001b[0mspellcheck\u001b[0m\u001b[0;34m(\u001b[0m\u001b[0;34m)\u001b[0m\u001b[0;34m[\u001b[0m\u001b[0;36m0\u001b[0m\u001b[0;34m]\u001b[0m\u001b[0;34m[\u001b[0m\u001b[0;36m0\u001b[0m\u001b[0;34m]\u001b[0m\u001b[0;34m)\u001b[0m\u001b[0;34m\u001b[0m\u001b[0;34m\u001b[0m\u001b[0m\n\u001b[0m\u001b[1;32m    128\u001b[0m \u001b[0;34m\u001b[0m\u001b[0m\n\u001b[1;32m    129\u001b[0m     \u001b[0;34m@\u001b[0m\u001b[0mcached_property\u001b[0m\u001b[0;34m\u001b[0m\u001b[0;34m\u001b[0m\u001b[0m\n",
            "\u001b[0;32m/usr/local/lib/python3.6/dist-packages/textblob/blob.py\u001b[0m in \u001b[0;36mspellcheck\u001b[0;34m(self)\u001b[0m\n\u001b[1;32m    117\u001b[0m         \u001b[0;34m.\u001b[0m\u001b[0;34m.\u001b[0m \u001b[0mversionadded\u001b[0m\u001b[0;34m:\u001b[0m\u001b[0;34m:\u001b[0m \u001b[0;36m0.6\u001b[0m\u001b[0;36m.0\u001b[0m\u001b[0;34m\u001b[0m\u001b[0;34m\u001b[0m\u001b[0m\n\u001b[1;32m    118\u001b[0m         '''\n\u001b[0;32m--> 119\u001b[0;31m         \u001b[0;32mreturn\u001b[0m \u001b[0msuggest\u001b[0m\u001b[0;34m(\u001b[0m\u001b[0mself\u001b[0m\u001b[0;34m.\u001b[0m\u001b[0mstring\u001b[0m\u001b[0;34m)\u001b[0m\u001b[0;34m\u001b[0m\u001b[0;34m\u001b[0m\u001b[0m\n\u001b[0m\u001b[1;32m    120\u001b[0m \u001b[0;34m\u001b[0m\u001b[0m\n\u001b[1;32m    121\u001b[0m     \u001b[0;32mdef\u001b[0m \u001b[0mcorrect\u001b[0m\u001b[0;34m(\u001b[0m\u001b[0mself\u001b[0m\u001b[0;34m)\u001b[0m\u001b[0;34m:\u001b[0m\u001b[0;34m\u001b[0m\u001b[0;34m\u001b[0m\u001b[0m\n",
            "\u001b[0;32m/usr/local/lib/python3.6/dist-packages/textblob/en/__init__.py\u001b[0m in \u001b[0;36msuggest\u001b[0;34m(w)\u001b[0m\n\u001b[1;32m    121\u001b[0m     \"\"\" Returns a list of (word, confidence)-tuples of spelling corrections.\n\u001b[1;32m    122\u001b[0m     \"\"\"\n\u001b[0;32m--> 123\u001b[0;31m     \u001b[0;32mreturn\u001b[0m \u001b[0mspelling\u001b[0m\u001b[0;34m.\u001b[0m\u001b[0msuggest\u001b[0m\u001b[0;34m(\u001b[0m\u001b[0mw\u001b[0m\u001b[0;34m)\u001b[0m\u001b[0;34m\u001b[0m\u001b[0;34m\u001b[0m\u001b[0m\n\u001b[0m\u001b[1;32m    124\u001b[0m \u001b[0;34m\u001b[0m\u001b[0m\n\u001b[1;32m    125\u001b[0m \u001b[0;32mdef\u001b[0m \u001b[0mpolarity\u001b[0m\u001b[0;34m(\u001b[0m\u001b[0ms\u001b[0m\u001b[0;34m,\u001b[0m \u001b[0;34m**\u001b[0m\u001b[0mkwargs\u001b[0m\u001b[0;34m)\u001b[0m\u001b[0;34m:\u001b[0m\u001b[0;34m\u001b[0m\u001b[0;34m\u001b[0m\u001b[0m\n",
            "\u001b[0;32m/usr/local/lib/python3.6/dist-packages/textblob/_text.py\u001b[0m in \u001b[0;36msuggest\u001b[0;34m(self, w)\u001b[0m\n\u001b[1;32m   1396\u001b[0m         \u001b[0mcandidates\u001b[0m \u001b[0;34m=\u001b[0m \u001b[0mself\u001b[0m\u001b[0;34m.\u001b[0m\u001b[0m_known\u001b[0m\u001b[0;34m(\u001b[0m\u001b[0;34m[\u001b[0m\u001b[0mw\u001b[0m\u001b[0;34m]\u001b[0m\u001b[0;34m)\u001b[0m\u001b[0;31m \u001b[0m\u001b[0;31m\\\u001b[0m\u001b[0;34m\u001b[0m\u001b[0;34m\u001b[0m\u001b[0m\n\u001b[1;32m   1397\u001b[0m                   \u001b[0;32mor\u001b[0m \u001b[0mself\u001b[0m\u001b[0;34m.\u001b[0m\u001b[0m_known\u001b[0m\u001b[0;34m(\u001b[0m\u001b[0mself\u001b[0m\u001b[0;34m.\u001b[0m\u001b[0m_edit1\u001b[0m\u001b[0;34m(\u001b[0m\u001b[0mw\u001b[0m\u001b[0;34m)\u001b[0m\u001b[0;34m)\u001b[0m\u001b[0;31m \u001b[0m\u001b[0;31m\\\u001b[0m\u001b[0;34m\u001b[0m\u001b[0;34m\u001b[0m\u001b[0m\n\u001b[0;32m-> 1398\u001b[0;31m                   \u001b[0;32mor\u001b[0m \u001b[0mself\u001b[0m\u001b[0;34m.\u001b[0m\u001b[0m_known\u001b[0m\u001b[0;34m(\u001b[0m\u001b[0mself\u001b[0m\u001b[0;34m.\u001b[0m\u001b[0m_edit2\u001b[0m\u001b[0;34m(\u001b[0m\u001b[0mw\u001b[0m\u001b[0;34m)\u001b[0m\u001b[0;34m)\u001b[0m\u001b[0;31m \u001b[0m\u001b[0;31m\\\u001b[0m\u001b[0;34m\u001b[0m\u001b[0;34m\u001b[0m\u001b[0m\n\u001b[0m\u001b[1;32m   1399\u001b[0m                   \u001b[0;32mor\u001b[0m \u001b[0;34m[\u001b[0m\u001b[0mw\u001b[0m\u001b[0;34m]\u001b[0m\u001b[0;34m\u001b[0m\u001b[0;34m\u001b[0m\u001b[0m\n\u001b[1;32m   1400\u001b[0m         \u001b[0mcandidates\u001b[0m \u001b[0;34m=\u001b[0m \u001b[0;34m[\u001b[0m\u001b[0;34m(\u001b[0m\u001b[0mself\u001b[0m\u001b[0;34m.\u001b[0m\u001b[0mget\u001b[0m\u001b[0;34m(\u001b[0m\u001b[0mc\u001b[0m\u001b[0;34m,\u001b[0m \u001b[0;36m0.0\u001b[0m\u001b[0;34m)\u001b[0m\u001b[0;34m,\u001b[0m \u001b[0mc\u001b[0m\u001b[0;34m)\u001b[0m \u001b[0;32mfor\u001b[0m \u001b[0mc\u001b[0m \u001b[0;32min\u001b[0m \u001b[0mcandidates\u001b[0m\u001b[0;34m]\u001b[0m\u001b[0;34m\u001b[0m\u001b[0;34m\u001b[0m\u001b[0m\n",
            "\u001b[0;32m/usr/local/lib/python3.6/dist-packages/textblob/_text.py\u001b[0m in \u001b[0;36m_edit2\u001b[0;34m(self, w)\u001b[0m\n\u001b[1;32m   1373\u001b[0m         \u001b[0;31m# Of all spelling errors, 99% is covered by edit distance 2.\u001b[0m\u001b[0;34m\u001b[0m\u001b[0;34m\u001b[0m\u001b[0;34m\u001b[0m\u001b[0m\n\u001b[1;32m   1374\u001b[0m         \u001b[0;31m# Only keep candidates that are actually known words (20% speedup).\u001b[0m\u001b[0;34m\u001b[0m\u001b[0;34m\u001b[0m\u001b[0;34m\u001b[0m\u001b[0m\n\u001b[0;32m-> 1375\u001b[0;31m         \u001b[0;32mreturn\u001b[0m \u001b[0mset\u001b[0m\u001b[0;34m(\u001b[0m\u001b[0me2\u001b[0m \u001b[0;32mfor\u001b[0m \u001b[0me1\u001b[0m \u001b[0;32min\u001b[0m \u001b[0mself\u001b[0m\u001b[0;34m.\u001b[0m\u001b[0m_edit1\u001b[0m\u001b[0;34m(\u001b[0m\u001b[0mw\u001b[0m\u001b[0;34m)\u001b[0m \u001b[0;32mfor\u001b[0m \u001b[0me2\u001b[0m \u001b[0;32min\u001b[0m \u001b[0mself\u001b[0m\u001b[0;34m.\u001b[0m\u001b[0m_edit1\u001b[0m\u001b[0;34m(\u001b[0m\u001b[0me1\u001b[0m\u001b[0;34m)\u001b[0m \u001b[0;32mif\u001b[0m \u001b[0me2\u001b[0m \u001b[0;32min\u001b[0m \u001b[0mself\u001b[0m\u001b[0;34m)\u001b[0m\u001b[0;34m\u001b[0m\u001b[0;34m\u001b[0m\u001b[0m\n\u001b[0m\u001b[1;32m   1376\u001b[0m \u001b[0;34m\u001b[0m\u001b[0m\n\u001b[1;32m   1377\u001b[0m     \u001b[0;32mdef\u001b[0m \u001b[0m_known\u001b[0m\u001b[0;34m(\u001b[0m\u001b[0mself\u001b[0m\u001b[0;34m,\u001b[0m \u001b[0mwords\u001b[0m\u001b[0;34m=\u001b[0m\u001b[0;34m[\u001b[0m\u001b[0;34m]\u001b[0m\u001b[0;34m)\u001b[0m\u001b[0;34m:\u001b[0m\u001b[0;34m\u001b[0m\u001b[0;34m\u001b[0m\u001b[0m\n",
            "\u001b[0;32m/usr/local/lib/python3.6/dist-packages/textblob/_text.py\u001b[0m in \u001b[0;36m<genexpr>\u001b[0;34m(.0)\u001b[0m\n\u001b[1;32m   1373\u001b[0m         \u001b[0;31m# Of all spelling errors, 99% is covered by edit distance 2.\u001b[0m\u001b[0;34m\u001b[0m\u001b[0;34m\u001b[0m\u001b[0;34m\u001b[0m\u001b[0m\n\u001b[1;32m   1374\u001b[0m         \u001b[0;31m# Only keep candidates that are actually known words (20% speedup).\u001b[0m\u001b[0;34m\u001b[0m\u001b[0;34m\u001b[0m\u001b[0;34m\u001b[0m\u001b[0m\n\u001b[0;32m-> 1375\u001b[0;31m         \u001b[0;32mreturn\u001b[0m \u001b[0mset\u001b[0m\u001b[0;34m(\u001b[0m\u001b[0me2\u001b[0m \u001b[0;32mfor\u001b[0m \u001b[0me1\u001b[0m \u001b[0;32min\u001b[0m \u001b[0mself\u001b[0m\u001b[0;34m.\u001b[0m\u001b[0m_edit1\u001b[0m\u001b[0;34m(\u001b[0m\u001b[0mw\u001b[0m\u001b[0;34m)\u001b[0m \u001b[0;32mfor\u001b[0m \u001b[0me2\u001b[0m \u001b[0;32min\u001b[0m \u001b[0mself\u001b[0m\u001b[0;34m.\u001b[0m\u001b[0m_edit1\u001b[0m\u001b[0;34m(\u001b[0m\u001b[0me1\u001b[0m\u001b[0;34m)\u001b[0m \u001b[0;32mif\u001b[0m \u001b[0me2\u001b[0m \u001b[0;32min\u001b[0m \u001b[0mself\u001b[0m\u001b[0;34m)\u001b[0m\u001b[0;34m\u001b[0m\u001b[0;34m\u001b[0m\u001b[0m\n\u001b[0m\u001b[1;32m   1376\u001b[0m \u001b[0;34m\u001b[0m\u001b[0m\n\u001b[1;32m   1377\u001b[0m     \u001b[0;32mdef\u001b[0m \u001b[0m_known\u001b[0m\u001b[0;34m(\u001b[0m\u001b[0mself\u001b[0m\u001b[0;34m,\u001b[0m \u001b[0mwords\u001b[0m\u001b[0;34m=\u001b[0m\u001b[0;34m[\u001b[0m\u001b[0;34m]\u001b[0m\u001b[0;34m)\u001b[0m\u001b[0;34m:\u001b[0m\u001b[0;34m\u001b[0m\u001b[0;34m\u001b[0m\u001b[0m\n",
            "\u001b[0;32m/usr/local/lib/python3.6/dist-packages/textblob/_text.py\u001b[0m in \u001b[0;36m__contains__\u001b[0;34m(self, *args)\u001b[0m\n\u001b[1;32m     94\u001b[0m         \u001b[0;32mreturn\u001b[0m \u001b[0mself\u001b[0m\u001b[0;34m.\u001b[0m\u001b[0m_lazy\u001b[0m\u001b[0;34m(\u001b[0m\u001b[0;34m\"__iter__\"\u001b[0m\u001b[0;34m)\u001b[0m\u001b[0;34m\u001b[0m\u001b[0;34m\u001b[0m\u001b[0m\n\u001b[1;32m     95\u001b[0m     \u001b[0;32mdef\u001b[0m \u001b[0m__contains__\u001b[0m\u001b[0;34m(\u001b[0m\u001b[0mself\u001b[0m\u001b[0;34m,\u001b[0m \u001b[0;34m*\u001b[0m\u001b[0margs\u001b[0m\u001b[0;34m)\u001b[0m\u001b[0;34m:\u001b[0m\u001b[0;34m\u001b[0m\u001b[0;34m\u001b[0m\u001b[0m\n\u001b[0;32m---> 96\u001b[0;31m         \u001b[0;32mreturn\u001b[0m \u001b[0mself\u001b[0m\u001b[0;34m.\u001b[0m\u001b[0m_lazy\u001b[0m\u001b[0;34m(\u001b[0m\u001b[0;34m\"__contains__\"\u001b[0m\u001b[0;34m,\u001b[0m \u001b[0;34m*\u001b[0m\u001b[0margs\u001b[0m\u001b[0;34m)\u001b[0m\u001b[0;34m\u001b[0m\u001b[0;34m\u001b[0m\u001b[0m\n\u001b[0m\u001b[1;32m     97\u001b[0m     \u001b[0;32mdef\u001b[0m \u001b[0m__getitem__\u001b[0m\u001b[0;34m(\u001b[0m\u001b[0mself\u001b[0m\u001b[0;34m,\u001b[0m \u001b[0;34m*\u001b[0m\u001b[0margs\u001b[0m\u001b[0;34m)\u001b[0m\u001b[0;34m:\u001b[0m\u001b[0;34m\u001b[0m\u001b[0;34m\u001b[0m\u001b[0m\n\u001b[1;32m     98\u001b[0m         \u001b[0;32mreturn\u001b[0m \u001b[0mself\u001b[0m\u001b[0;34m.\u001b[0m\u001b[0m_lazy\u001b[0m\u001b[0;34m(\u001b[0m\u001b[0;34m\"__getitem__\"\u001b[0m\u001b[0;34m,\u001b[0m \u001b[0;34m*\u001b[0m\u001b[0margs\u001b[0m\u001b[0;34m)\u001b[0m\u001b[0;34m\u001b[0m\u001b[0;34m\u001b[0m\u001b[0m\n",
            "\u001b[0;32m/usr/local/lib/python3.6/dist-packages/textblob/_text.py\u001b[0m in \u001b[0;36m_lazy\u001b[0;34m(self, method, *args)\u001b[0m\n\u001b[1;32m     78\u001b[0m         \u001b[0;32mpass\u001b[0m\u001b[0;34m\u001b[0m\u001b[0;34m\u001b[0m\u001b[0m\n\u001b[1;32m     79\u001b[0m \u001b[0;34m\u001b[0m\u001b[0m\n\u001b[0;32m---> 80\u001b[0;31m     \u001b[0;32mdef\u001b[0m \u001b[0m_lazy\u001b[0m\u001b[0;34m(\u001b[0m\u001b[0mself\u001b[0m\u001b[0;34m,\u001b[0m \u001b[0mmethod\u001b[0m\u001b[0;34m,\u001b[0m \u001b[0;34m*\u001b[0m\u001b[0margs\u001b[0m\u001b[0;34m)\u001b[0m\u001b[0;34m:\u001b[0m\u001b[0;34m\u001b[0m\u001b[0;34m\u001b[0m\u001b[0m\n\u001b[0m\u001b[1;32m     81\u001b[0m         \"\"\" If the dictionary is empty, calls lazydict.load().\n\u001b[1;32m     82\u001b[0m             \u001b[0mReplaces\u001b[0m \u001b[0mlazydict\u001b[0m\u001b[0;34m.\u001b[0m\u001b[0mmethod\u001b[0m\u001b[0;34m(\u001b[0m\u001b[0;34m)\u001b[0m \u001b[0;32mwith\u001b[0m \u001b[0mdict\u001b[0m\u001b[0;34m.\u001b[0m\u001b[0mmethod\u001b[0m\u001b[0;34m(\u001b[0m\u001b[0;34m)\u001b[0m \u001b[0;32mand\u001b[0m \u001b[0mcalls\u001b[0m \u001b[0mit\u001b[0m\u001b[0;34m.\u001b[0m\u001b[0;34m\u001b[0m\u001b[0;34m\u001b[0m\u001b[0m\n",
            "\u001b[0;31mKeyboardInterrupt\u001b[0m: "
          ]
        }
      ]
    },
    {
      "cell_type": "code",
      "metadata": {
        "id": "4QIihyvLmvy_",
        "colab_type": "code",
        "colab": {}
      },
      "source": [
        "words_financial = filter_stop_word(df_jd_clean,0)\n",
        "words_healthcare = filter_stop_word(df_jd_clean,1)\n",
        "words_ecom = filter_stop_word(df_jd_clean,2)\n",
        "words_social = filter_stop_word(df_jd_clean,3)\n",
        "words_consumer = filter_stop_word(df_jd_clean,4)\n",
        "words_info = filter_stop_word(df_jd_clean,5)"
      ],
      "execution_count": 0,
      "outputs": []
    },
    {
      "cell_type": "code",
      "metadata": {
        "id": "VGN0W9AJKnb0",
        "colab_type": "code",
        "colab": {}
      },
      "source": [
        "def check_common_words(data, num):\n",
        "  '''\n",
        "  Checking the first 10 most frequent words\n",
        "  '''\n",
        "  from collections import Counter\n",
        "  cnt = Counter()\n",
        "  for text in data:\n",
        "    for word in text.split():\n",
        "      cnt[word] += 1    \n",
        "  return cnt.most_common(num)"
      ],
      "execution_count": 0,
      "outputs": []
    },
    {
      "cell_type": "code",
      "metadata": {
        "id": "9zZOsK8BLUHd",
        "colab_type": "code",
        "outputId": "96e25767-e901-428c-bf06-6600ba5a5ba5",
        "colab": {
          "base_uri": "https://localhost:8080/",
          "height": 357
        }
      },
      "source": [
        "# check common words for financial\n",
        "check_common_words(words_financial, 20)"
      ],
      "execution_count": 0,
      "outputs": [
        {
          "output_type": "execute_result",
          "data": {
            "text/plain": [
              "[('datum', 120),\n",
              " ('experience', 59),\n",
              " ('team', 49),\n",
              " ('research', 35),\n",
              " ('learning', 28),\n",
              " ('investment', 27),\n",
              " ('product', 27),\n",
              " ('work', 27),\n",
              " ('insight', 26),\n",
              " ('analysis', 26),\n",
              " ('business', 25),\n",
              " ('analytic', 25),\n",
              " ('skill', 24),\n",
              " ('machine', 24),\n",
              " ('client', 24),\n",
              " ('science', 21),\n",
              " ('scientist', 20),\n",
              " ('year', 20),\n",
              " ('technology', 19),\n",
              " ('working', 19)]"
            ]
          },
          "metadata": {
            "tags": []
          },
          "execution_count": 21
        }
      ]
    },
    {
      "cell_type": "code",
      "metadata": {
        "id": "2r1WqF4dS5ms",
        "colab_type": "code",
        "colab": {}
      },
      "source": [
        "# wordcloud function\n",
        "\n",
        "from wordcloud import WordCloud\n",
        "import matplotlib.pyplot as plt\n",
        "\n",
        "def show_wordcloud(data, title = None):\n",
        "    wordcloud = WordCloud(\n",
        "        background_color = 'white',\n",
        "        max_words = 200,\n",
        "        max_font_size = 50, \n",
        "        scale = 5,\n",
        "        random_state = 42\n",
        "    ).generate(str(data))\n",
        "\n",
        "    fig = plt.figure(1, figsize = (10, 10))\n",
        "    plt.axis('off')\n",
        "    if title: \n",
        "        fig.suptitle(title, fontsize = 16)\n",
        "        fig.subplots_adjust(top = 2.25)\n",
        "\n",
        "    plt.imshow(wordcloud)\n",
        "    plt.show()"
      ],
      "execution_count": 0,
      "outputs": []
    },
    {
      "cell_type": "code",
      "metadata": {
        "id": "JiUBaQgvTclX",
        "colab_type": "code",
        "outputId": "073b5173-3950-43e5-a7bb-e71773f834d7",
        "colab": {
          "base_uri": "https://localhost:8080/",
          "height": 335
        }
      },
      "source": [
        "show_wordcloud(words_financial, title='common words for data scientist job posting in finance')"
      ],
      "execution_count": 0,
      "outputs": [
        {
          "output_type": "display_data",
          "data": {
            "image/png": "[encoded data removed]",
            "text/plain": [
              "<Figure size 720x720 with 1 Axes>"
            ]
          },
          "metadata": {
            "tags": []
          }
        }
      ]
    },
    {
      "cell_type": "code",
      "metadata": {
        "id": "sPaPN2AdS6ty",
        "colab_type": "code",
        "outputId": "ec3932cd-bb77-476f-817a-e2a7fe6ddab8",
        "colab": {
          "base_uri": "https://localhost:8080/",
          "height": 335
        }
      },
      "source": [
        "# print wordcloud (low rating)\n",
        "show_wordcloud(words_healthcare, title='common words for data scientist job posting in healthcare')"
      ],
      "execution_count": 0,
      "outputs": [
        {
          "output_type": "display_data",
          "data": {
            "image/png": "[encoded data removed]",
            "text/plain": [
              "<Figure size 720x720 with 1 Axes>"
            ]
          },
          "metadata": {
            "tags": []
          }
        }
      ]
    },
    {
      "cell_type": "markdown",
      "metadata": {
        "id": "wINA6nVyZE8A",
        "colab_type": "text"
      },
      "source": [
        "#### Keyword matching by SpaCY"
      ]
    },
    {
      "cell_type": "code",
      "metadata": {
        "id": "2Ux1XUaxTat7",
        "colab_type": "code",
        "colab": {}
      },
      "source": [
        ""
      ],
      "execution_count": 0,
      "outputs": []
    },
    {
      "cell_type": "markdown",
      "metadata": {
        "id": "64cRUxDBQ_wI",
        "colab_type": "text"
      },
      "source": [
        "###### keywords"
      ]
    },
    {
      "cell_type": "code",
      "metadata": {
        "id": "7OdiigoAUGRX",
        "colab_type": "code",
        "outputId": "b6c20c60-383d-428f-b060-08936a3f18b0",
        "colab": {
          "base_uri": "https://localhost:8080/",
          "height": 85
        }
      },
      "source": [
        "df_kw_clean.columns"
      ],
      "execution_count": 0,
      "outputs": [
        {
          "output_type": "execute_result",
          "data": {
            "text/plain": [
              "Index(['statistics', 'machine learning', 'deep learning', 'python langugage',\n",
              "       'R language', 'nlp', 'data engineering', 'cloud', 'visualization',\n",
              "       'soft skills', 'computer vision ', 'Degree'],\n",
              "      dtype='object', name=0)"
            ]
          },
          "metadata": {
            "tags": []
          },
          "execution_count": 22
        }
      ]
    },
    {
      "cell_type": "code",
      "metadata": {
        "id": "S6Tu6YYyTFay",
        "colab_type": "code",
        "colab": {}
      },
      "source": [
        "kwords_stats = [nlp(text) for text in df_kw_clean['statistics'].dropna(axis=0)]\n",
        "kwords_ml = [nlp(text) for text in df_kw_clean['machine learning'].dropna(axis=0)]\n",
        "kwords_dl = [nlp(text) for text in df_kw_clean['deep learning'].dropna(axis=0)]\n",
        "kwords_py = [nlp(text) for text in df_kw_clean['python langugage'].dropna(axis=0)]\n",
        "kwords_r = [nlp(text) for text in df_kw_clean['R language'].dropna(axis=0)]\n",
        "kwords_nlp = [nlp(text) for text in df_kw_clean['nlp'].dropna(axis=0)]\n",
        "kwords_de = [nlp(text) for text in df_kw_clean['data engineering'].dropna(axis=0)]\n",
        "kwords_cloud = [nlp(text) for text in df_kw_clean['cloud'].dropna(axis=0)]\n",
        "kwords_vis = [nlp(text) for text in df_kw_clean['visualization'].dropna(axis=0)]\n",
        "kwords_ss = [nlp(text) for text in df_kw_clean['soft skills'].dropna(axis=0)]\n",
        "kwords_cv = [nlp(text) for text in df_kw_clean['computer vision '].dropna(axis=0)]"
      ],
      "execution_count": 0,
      "outputs": []
    },
    {
      "cell_type": "code",
      "metadata": {
        "id": "2iH-pfjCn-HU",
        "colab_type": "code",
        "colab": {}
      },
      "source": [
        "matcher = PhraseMatcher(nlp.vocab)\n",
        "matcher.add('Stats', None, *kwords_stats)\n",
        "matcher.add('ML', None, *kwords_ml)\n",
        "matcher.add('DL', None, *kwords_dl)\n",
        "matcher.add('Py', None, *kwords_py)\n",
        "matcher.add('R', None, *kwords_r)\n",
        "matcher.add('NLP', None, *kwords_nlp)\n",
        "matcher.add('DE', None, *kwords_de)\n",
        "matcher.add('Cloud', None, *kwords_cloud)\n",
        "matcher.add('Vis', None, *kwords_vis)\n",
        "matcher.add('SS', None, *kwords_ss)\n",
        "matcher.add('CV', None, *kwords_cv)\n"
      ],
      "execution_count": 0,
      "outputs": []
    },
    {
      "cell_type": "code",
      "metadata": {
        "id": "4ha-XBjFNhKK",
        "colab_type": "code",
        "colab": {}
      },
      "source": [
        "def match_kw(dataframe, column_name='Financial'):\n",
        "  '''\n",
        "  input: datframe and columne name\n",
        "  output: dataframe with subject and count for keywords\n",
        "  '''\n",
        "  # make a list for one column\n",
        "  d_list = []\n",
        "  for i in range(dataframe.shape[0]):\n",
        "    d_list.append(dataframe[column_name][i])#doc = nlp(df_jd['Financial'][0])\n",
        "  doc = nlp(str(d_list))\n",
        "\n",
        "  matches = matcher(doc)\n",
        "  # matching with keyword\n",
        "  d = []\n",
        "  for match_id, start, end in matches:\n",
        "    rule_id = nlp.vocab.strings[match_id]\n",
        "    span = doc[start:end]\n",
        "    d.append((rule_id, span.text))\n",
        "  keywords= \"\\n\".join(f'{i[0]} {i[1]} ({j})' for i,j in Counter(d).items())\n",
        "\n",
        "  ## convertimg string of keywords to dataframe\n",
        "  df = pd.read_csv(StringIO(keywords),names = ['Keywords_List'])\n",
        "  df1 = pd.DataFrame(df.Keywords_List.str.split(' ',1).tolist(),columns = ['Subject','Keyword'])\n",
        "  df2 = pd.DataFrame(df1.Keyword.str.split('(',1).tolist(),columns = ['Keyword', 'Count'])\n",
        "  df3 = pd.concat([df1['Subject'],df2['Keyword'], df2['Count']], axis =1) \n",
        "  df3['Count'] = df3['Count'].apply(lambda x: x.rstrip(\")\"))\n",
        "  df3['Count'] = df3['Count'].astype(int)\n",
        "\n",
        "  name = os.path.basename(column_name).lower()\n",
        "\n",
        "  ## converting str to dataframe\n",
        "  name1 = pd.read_csv(StringIO(name),names = ['Category'])    \n",
        "  dataf = pd.concat([name1['Category'], df3['Subject'], df3['Keyword'], df3['Count']], axis = 1)\n",
        "  dataf['Category'].fillna(dataf['Category'].iloc[0], inplace = True)\n",
        "  dataf = dataf.sort_values(by=['Count'], ascending=False)\n",
        "  return dataf"
      ],
      "execution_count": 0,
      "outputs": []
    },
    {
      "cell_type": "code",
      "metadata": {
        "id": "PLtaqf1PYDUr",
        "colab_type": "code",
        "outputId": "91dbc1f1-0bfe-4186-f26d-266eaeb44b66",
        "colab": {
          "base_uri": "https://localhost:8080/",
          "height": 68
        }
      },
      "source": [
        "df_jd_clean.columns"
      ],
      "execution_count": 0,
      "outputs": [
        {
          "output_type": "execute_result",
          "data": {
            "text/plain": [
              "Index(['Financial', 'Healthcare', 'e-com', 'social media', 'consumer ',\n",
              "       'Information'],\n",
              "      dtype='object', name=0)"
            ]
          },
          "metadata": {
            "tags": []
          },
          "execution_count": 26
        }
      ]
    },
    {
      "cell_type": "code",
      "metadata": {
        "id": "jieI4RNXORyl",
        "colab_type": "code",
        "colab": {}
      },
      "source": [
        "df_match_financial = match_kw(df_jd_clean, column_name='Financial')"
      ],
      "execution_count": 0,
      "outputs": []
    },
    {
      "cell_type": "code",
      "metadata": {
        "id": "9SulurRLaPD9",
        "colab_type": "code",
        "outputId": "62cc910a-46d8-4aa1-e33a-0d90dc2b3619",
        "colab": {
          "base_uri": "https://localhost:8080/",
          "height": 204
        }
      },
      "source": [
        "df_match_financial.head()#.sort_values(by=['Count'], ascending=False).iloc[:10,:]"
      ],
      "execution_count": 0,
      "outputs": [
        {
          "output_type": "execute_result",
          "data": {
            "text/html": [
              "<div>\n",
              "<style scoped>\n",
              "    .dataframe tbody tr th:only-of-type {\n",
              "        vertical-align: middle;\n",
              "    }\n",
              "\n",
              "    .dataframe tbody tr th {\n",
              "        vertical-align: top;\n",
              "    }\n",
              "\n",
              "    .dataframe thead th {\n",
              "        text-align: right;\n",
              "    }\n",
              "</style>\n",
              "<table border=\"1\" class=\"dataframe\">\n",
              "  <thead>\n",
              "    <tr style=\"text-align: right;\">\n",
              "      <th></th>\n",
              "      <th>Category</th>\n",
              "      <th>Subject</th>\n",
              "      <th>Keyword</th>\n",
              "      <th>Count</th>\n",
              "    </tr>\n",
              "  </thead>\n",
              "  <tbody>\n",
              "    <tr>\n",
              "      <th>5</th>\n",
              "      <td>financial</td>\n",
              "      <td>SS</td>\n",
              "      <td>experience</td>\n",
              "      <td>59</td>\n",
              "    </tr>\n",
              "    <tr>\n",
              "      <th>14</th>\n",
              "      <td>financial</td>\n",
              "      <td>ML</td>\n",
              "      <td>machine learning</td>\n",
              "      <td>23</td>\n",
              "    </tr>\n",
              "    <tr>\n",
              "      <th>6</th>\n",
              "      <td>financial</td>\n",
              "      <td>Stats</td>\n",
              "      <td>quantitative</td>\n",
              "      <td>18</td>\n",
              "    </tr>\n",
              "    <tr>\n",
              "      <th>12</th>\n",
              "      <td>financial</td>\n",
              "      <td>R</td>\n",
              "      <td>r</td>\n",
              "      <td>13</td>\n",
              "    </tr>\n",
              "    <tr>\n",
              "      <th>36</th>\n",
              "      <td>financial</td>\n",
              "      <td>Py</td>\n",
              "      <td>python</td>\n",
              "      <td>12</td>\n",
              "    </tr>\n",
              "  </tbody>\n",
              "</table>\n",
              "</div>"
            ],
            "text/plain": [
              "     Category Subject            Keyword  Count\n",
              "5   financial      SS        experience      59\n",
              "14  financial      ML  machine learning      23\n",
              "6   financial   Stats      quantitative      18\n",
              "12  financial       R                 r      13\n",
              "36  financial      Py            python      12"
            ]
          },
          "metadata": {
            "tags": []
          },
          "execution_count": 28
        }
      ]
    },
    {
      "cell_type": "code",
      "metadata": {
        "id": "gLN8Z8KObcXV",
        "colab_type": "code",
        "outputId": "1ff71976-e871-4886-aed3-25a6f19238ec",
        "colab": {
          "base_uri": "https://localhost:8080/",
          "height": 312
        }
      },
      "source": [
        "ax = sns.barplot(x=\"Count\", y=\"Keyword\", data=df_match_financial.head(15))\n",
        "ax.set_title('Financial')\n",
        "plt.ylabel('')"
      ],
      "execution_count": 0,
      "outputs": [
        {
          "output_type": "execute_result",
          "data": {
            "text/plain": [
              "Text(0, 0.5, '')"
            ]
          },
          "metadata": {
            "tags": []
          },
          "execution_count": 45
        },
        {
          "output_type": "display_data",
          "data": {
            "image/png": "[encoded data removed]",
            "text/plain": [
              "<Figure size 432x288 with 1 Axes>"
            ]
          },
          "metadata": {
            "tags": []
          }
        }
      ]
    },
    {
      "cell_type": "code",
      "metadata": {
        "id": "jAq2jVftRUT_",
        "colab_type": "code",
        "outputId": "4a46b914-7300-429c-bc1e-d23755c6e5cd",
        "colab": {
          "base_uri": "https://localhost:8080/",
          "height": 51
        }
      },
      "source": [
        "df_match_financial['Subject'].unique()"
      ],
      "execution_count": 0,
      "outputs": [
        {
          "output_type": "execute_result",
          "data": {
            "text/plain": [
              "array(['SS', 'ML', 'Stats', 'R', 'Py', 'Vis', 'DE', 'Cloud', 'DL', 'NLP',\n",
              "       'CV'], dtype=object)"
            ]
          },
          "metadata": {
            "tags": []
          },
          "execution_count": 36
        }
      ]
    },
    {
      "cell_type": "code",
      "metadata": {
        "id": "payZuMxJQqtD",
        "colab_type": "code",
        "outputId": "40929656-a351-46c8-8017-bf3ccd3818c2",
        "colab": {
          "base_uri": "https://localhost:8080/",
          "height": 312
        }
      },
      "source": [
        "# ML skill needed\n",
        "\n",
        "ax = sns.barplot(x=\"Count\", y=\"Keyword\", data=df_match_financial[df_match_financial['Subject']=='ML'][1:])\n",
        "ax.set_title('Key ML skills for Financial')\n",
        "plt.ylabel('')"
      ],
      "execution_count": 0,
      "outputs": [
        {
          "output_type": "execute_result",
          "data": {
            "text/plain": [
              "Text(0, 0.5, '')"
            ]
          },
          "metadata": {
            "tags": []
          },
          "execution_count": 44
        },
        {
          "output_type": "display_data",
          "data": {
            "image/png": "[encoded data removed]",
            "text/plain": [
              "<Figure size 432x288 with 1 Axes>"
            ]
          },
          "metadata": {
            "tags": []
          }
        }
      ]
    },
    {
      "cell_type": "markdown",
      "metadata": {
        "id": "c6N9dPQuRz3x",
        "colab_type": "text"
      },
      "source": [
        "Healthcare"
      ]
    },
    {
      "cell_type": "code",
      "metadata": {
        "id": "rXfmpePsc1FR",
        "colab_type": "code",
        "outputId": "1509d8e2-876b-4964-daed-a9aaf2f80646",
        "colab": {
          "base_uri": "https://localhost:8080/",
          "height": 359
        }
      },
      "source": [
        "df_match_healthcare = match_kw(df_jd_clean, column_name='Healthcare')\n",
        "df_match_healthcare.head(10)"
      ],
      "execution_count": 0,
      "outputs": [
        {
          "output_type": "execute_result",
          "data": {
            "text/html": [
              "<div>\n",
              "<style scoped>\n",
              "    .dataframe tbody tr th:only-of-type {\n",
              "        vertical-align: middle;\n",
              "    }\n",
              "\n",
              "    .dataframe tbody tr th {\n",
              "        vertical-align: top;\n",
              "    }\n",
              "\n",
              "    .dataframe thead th {\n",
              "        text-align: right;\n",
              "    }\n",
              "</style>\n",
              "<table border=\"1\" class=\"dataframe\">\n",
              "  <thead>\n",
              "    <tr style=\"text-align: right;\">\n",
              "      <th></th>\n",
              "      <th>Category</th>\n",
              "      <th>Subject</th>\n",
              "      <th>Keyword</th>\n",
              "      <th>Count</th>\n",
              "    </tr>\n",
              "  </thead>\n",
              "  <tbody>\n",
              "    <tr>\n",
              "      <th>2</th>\n",
              "      <td>healthcare</td>\n",
              "      <td>SS</td>\n",
              "      <td>experience</td>\n",
              "      <td>93</td>\n",
              "    </tr>\n",
              "    <tr>\n",
              "      <th>9</th>\n",
              "      <td>healthcare</td>\n",
              "      <td>ML</td>\n",
              "      <td>machine learning</td>\n",
              "      <td>22</td>\n",
              "    </tr>\n",
              "    <tr>\n",
              "      <th>12</th>\n",
              "      <td>healthcare</td>\n",
              "      <td>DE</td>\n",
              "      <td>modeling</td>\n",
              "      <td>18</td>\n",
              "    </tr>\n",
              "    <tr>\n",
              "      <th>7</th>\n",
              "      <td>healthcare</td>\n",
              "      <td>Py</td>\n",
              "      <td>python</td>\n",
              "      <td>15</td>\n",
              "    </tr>\n",
              "    <tr>\n",
              "      <th>11</th>\n",
              "      <td>healthcare</td>\n",
              "      <td>SS</td>\n",
              "      <td>analytical</td>\n",
              "      <td>15</td>\n",
              "    </tr>\n",
              "    <tr>\n",
              "      <th>8</th>\n",
              "      <td>healthcare</td>\n",
              "      <td>DE</td>\n",
              "      <td>sql</td>\n",
              "      <td>14</td>\n",
              "    </tr>\n",
              "    <tr>\n",
              "      <th>17</th>\n",
              "      <td>healthcare</td>\n",
              "      <td>ML</td>\n",
              "      <td>recommendation</td>\n",
              "      <td>9</td>\n",
              "    </tr>\n",
              "    <tr>\n",
              "      <th>0</th>\n",
              "      <td>healthcare</td>\n",
              "      <td>Vis</td>\n",
              "      <td>visualization</td>\n",
              "      <td>9</td>\n",
              "    </tr>\n",
              "    <tr>\n",
              "      <th>6</th>\n",
              "      <td>healthcare</td>\n",
              "      <td>R</td>\n",
              "      <td>r</td>\n",
              "      <td>8</td>\n",
              "    </tr>\n",
              "    <tr>\n",
              "      <th>24</th>\n",
              "      <td>healthcare</td>\n",
              "      <td>Stats</td>\n",
              "      <td>quantitative</td>\n",
              "      <td>8</td>\n",
              "    </tr>\n",
              "  </tbody>\n",
              "</table>\n",
              "</div>"
            ],
            "text/plain": [
              "      Category Subject            Keyword  Count\n",
              "2   healthcare      SS        experience      93\n",
              "9   healthcare      ML  machine learning      22\n",
              "12  healthcare      DE          modeling      18\n",
              "7   healthcare      Py            python      15\n",
              "11  healthcare      SS        analytical      15\n",
              "8   healthcare      DE               sql      14\n",
              "17  healthcare      ML    recommendation       9\n",
              "0   healthcare     Vis     visualization       9\n",
              "6   healthcare       R                 r       8\n",
              "24  healthcare   Stats      quantitative       8"
            ]
          },
          "metadata": {
            "tags": []
          },
          "execution_count": 46
        }
      ]
    },
    {
      "cell_type": "code",
      "metadata": {
        "id": "W-5yroAFc-qJ",
        "colab_type": "code",
        "outputId": "db7b28d6-c034-4b4b-cf1a-29643923cbf7",
        "colab": {
          "base_uri": "https://localhost:8080/",
          "height": 312
        }
      },
      "source": [
        "ax = sns.barplot(x=\"Count\", y=\"Keyword\", data=df_match_healthcare.head(15))\n",
        "ax.set_title('healthcare')\n",
        "plt.ylabel('')"
      ],
      "execution_count": 0,
      "outputs": [
        {
          "output_type": "execute_result",
          "data": {
            "text/plain": [
              "Text(0, 0.5, '')"
            ]
          },
          "metadata": {
            "tags": []
          },
          "execution_count": 47
        },
        {
          "output_type": "display_data",
          "data": {
            "image/png": "[encoded data removed]",
            "text/plain": [
              "<Figure size 432x288 with 1 Axes>"
            ]
          },
          "metadata": {
            "tags": []
          }
        }
      ]
    },
    {
      "cell_type": "code",
      "metadata": {
        "id": "lRruw3d8R6Pp",
        "colab_type": "code",
        "outputId": "0bab4dcd-3429-49e3-9b01-66fd6b8f2de3",
        "colab": {
          "base_uri": "https://localhost:8080/",
          "height": 312
        }
      },
      "source": [
        "# ML skill needed\n",
        "\n",
        "ax = sns.barplot(x=\"Count\", y=\"Keyword\", data=df_match_healthcare[df_match_healthcare['Subject']=='ML'][1:])\n",
        "ax.set_title('Key ML skills for Healthcare')\n",
        "plt.ylabel('')"
      ],
      "execution_count": 0,
      "outputs": [
        {
          "output_type": "execute_result",
          "data": {
            "text/plain": [
              "Text(0, 0.5, '')"
            ]
          },
          "metadata": {
            "tags": []
          },
          "execution_count": 48
        },
        {
          "output_type": "display_data",
          "data": {
            "image/png": "[encoded data removed]",
            "text/plain": [
              "<Figure size 432x288 with 1 Axes>"
            ]
          },
          "metadata": {
            "tags": []
          }
        }
      ]
    },
    {
      "cell_type": "code",
      "metadata": {
        "id": "oF-HvXl9dKDL",
        "colab_type": "code",
        "outputId": "dbee46cf-a6fb-4fcc-f40e-51b62415eb66",
        "colab": {
          "base_uri": "https://localhost:8080/",
          "height": 638
        }
      },
      "source": [
        "df_match_ecom = match_kw(df_jd_clean, column_name='e-com')\n",
        "display(df_match_ecom.head(10))\n",
        "\n",
        "sns.barplot(x=\"Count\", y=\"Keyword\", data=df_match_ecom.head(15))"
      ],
      "execution_count": 0,
      "outputs": [
        {
          "output_type": "display_data",
          "data": {
            "text/html": [
              "<div>\n",
              "<style scoped>\n",
              "    .dataframe tbody tr th:only-of-type {\n",
              "        vertical-align: middle;\n",
              "    }\n",
              "\n",
              "    .dataframe tbody tr th {\n",
              "        vertical-align: top;\n",
              "    }\n",
              "\n",
              "    .dataframe thead th {\n",
              "        text-align: right;\n",
              "    }\n",
              "</style>\n",
              "<table border=\"1\" class=\"dataframe\">\n",
              "  <thead>\n",
              "    <tr style=\"text-align: right;\">\n",
              "      <th></th>\n",
              "      <th>Category</th>\n",
              "      <th>Subject</th>\n",
              "      <th>Keyword</th>\n",
              "      <th>Count</th>\n",
              "    </tr>\n",
              "  </thead>\n",
              "  <tbody>\n",
              "    <tr>\n",
              "      <th>10</th>\n",
              "      <td>e-com</td>\n",
              "      <td>SS</td>\n",
              "      <td>experience</td>\n",
              "      <td>49</td>\n",
              "    </tr>\n",
              "    <tr>\n",
              "      <th>11</th>\n",
              "      <td>e-com</td>\n",
              "      <td>ML</td>\n",
              "      <td>machine learning</td>\n",
              "      <td>24</td>\n",
              "    </tr>\n",
              "    <tr>\n",
              "      <th>19</th>\n",
              "      <td>e-com</td>\n",
              "      <td>Stats</td>\n",
              "      <td>quantitative</td>\n",
              "      <td>18</td>\n",
              "    </tr>\n",
              "    <tr>\n",
              "      <th>22</th>\n",
              "      <td>e-com</td>\n",
              "      <td>Stats</td>\n",
              "      <td>forecasting</td>\n",
              "      <td>16</td>\n",
              "    </tr>\n",
              "    <tr>\n",
              "      <th>3</th>\n",
              "      <td>e-com</td>\n",
              "      <td>DE</td>\n",
              "      <td>modeling</td>\n",
              "      <td>14</td>\n",
              "    </tr>\n",
              "    <tr>\n",
              "      <th>13</th>\n",
              "      <td>e-com</td>\n",
              "      <td>SS</td>\n",
              "      <td>communication</td>\n",
              "      <td>11</td>\n",
              "    </tr>\n",
              "    <tr>\n",
              "      <th>6</th>\n",
              "      <td>e-com</td>\n",
              "      <td>Py</td>\n",
              "      <td>python</td>\n",
              "      <td>10</td>\n",
              "    </tr>\n",
              "    <tr>\n",
              "      <th>0</th>\n",
              "      <td>e-com</td>\n",
              "      <td>SS</td>\n",
              "      <td>analytical</td>\n",
              "      <td>8</td>\n",
              "    </tr>\n",
              "    <tr>\n",
              "      <th>23</th>\n",
              "      <td>e-com</td>\n",
              "      <td>ML</td>\n",
              "      <td>time series</td>\n",
              "      <td>6</td>\n",
              "    </tr>\n",
              "    <tr>\n",
              "      <th>21</th>\n",
              "      <td>e-com</td>\n",
              "      <td>Stats</td>\n",
              "      <td>mathematical</td>\n",
              "      <td>6</td>\n",
              "    </tr>\n",
              "  </tbody>\n",
              "</table>\n",
              "</div>"
            ],
            "text/plain": [
              "   Category Subject            Keyword  Count\n",
              "10    e-com      SS        experience      49\n",
              "11    e-com      ML  machine learning      24\n",
              "19    e-com   Stats      quantitative      18\n",
              "22    e-com   Stats       forecasting      16\n",
              "3     e-com      DE          modeling      14\n",
              "13    e-com      SS     communication      11\n",
              "6     e-com      Py            python      10\n",
              "0     e-com      SS        analytical       8\n",
              "23    e-com      ML       time series       6\n",
              "21    e-com   Stats      mathematical       6"
            ]
          },
          "metadata": {
            "tags": []
          }
        },
        {
          "output_type": "execute_result",
          "data": {
            "text/plain": [
              "<matplotlib.axes._subplots.AxesSubplot at 0x7f1c6e541c88>"
            ]
          },
          "metadata": {
            "tags": []
          },
          "execution_count": 72
        },
        {
          "output_type": "display_data",
          "data": {
            "image/png": "[encoded data removed]",
            "text/plain": [
              "<Figure size 432x288 with 1 Axes>"
            ]
          },
          "metadata": {
            "tags": []
          }
        }
      ]
    },
    {
      "cell_type": "code",
      "metadata": {
        "id": "Ul4KGJvNdfUo",
        "colab_type": "code",
        "outputId": "f4e93f5c-b30e-46e1-9d00-c08b1bfa49df",
        "colab": {
          "base_uri": "https://localhost:8080/",
          "height": 638
        }
      },
      "source": [
        "df_match_soc = match_kw(df_jd_clean, column_name='social media')\n",
        "display(df_match_soc.head(10))\n",
        "\n",
        "sns.barplot(x=\"Count\", y=\"Keyword\", data=df_match_soc.head(15))"
      ],
      "execution_count": 0,
      "outputs": [
        {
          "output_type": "display_data",
          "data": {
            "text/html": [
              "<div>\n",
              "<style scoped>\n",
              "    .dataframe tbody tr th:only-of-type {\n",
              "        vertical-align: middle;\n",
              "    }\n",
              "\n",
              "    .dataframe tbody tr th {\n",
              "        vertical-align: top;\n",
              "    }\n",
              "\n",
              "    .dataframe thead th {\n",
              "        text-align: right;\n",
              "    }\n",
              "</style>\n",
              "<table border=\"1\" class=\"dataframe\">\n",
              "  <thead>\n",
              "    <tr style=\"text-align: right;\">\n",
              "      <th></th>\n",
              "      <th>Category</th>\n",
              "      <th>Subject</th>\n",
              "      <th>Keyword</th>\n",
              "      <th>Count</th>\n",
              "    </tr>\n",
              "  </thead>\n",
              "  <tbody>\n",
              "    <tr>\n",
              "      <th>1</th>\n",
              "      <td>social media</td>\n",
              "      <td>SS</td>\n",
              "      <td>experience</td>\n",
              "      <td>60</td>\n",
              "    </tr>\n",
              "    <tr>\n",
              "      <th>21</th>\n",
              "      <td>social media</td>\n",
              "      <td>ML</td>\n",
              "      <td>machine learning</td>\n",
              "      <td>24</td>\n",
              "    </tr>\n",
              "    <tr>\n",
              "      <th>13</th>\n",
              "      <td>social media</td>\n",
              "      <td>Py</td>\n",
              "      <td>python</td>\n",
              "      <td>12</td>\n",
              "    </tr>\n",
              "    <tr>\n",
              "      <th>0</th>\n",
              "      <td>social media</td>\n",
              "      <td>Stats</td>\n",
              "      <td>quantitative</td>\n",
              "      <td>10</td>\n",
              "    </tr>\n",
              "    <tr>\n",
              "      <th>12</th>\n",
              "      <td>social media</td>\n",
              "      <td>DE</td>\n",
              "      <td>sql</td>\n",
              "      <td>8</td>\n",
              "    </tr>\n",
              "    <tr>\n",
              "      <th>17</th>\n",
              "      <td>social media</td>\n",
              "      <td>R</td>\n",
              "      <td>r</td>\n",
              "      <td>7</td>\n",
              "    </tr>\n",
              "    <tr>\n",
              "      <th>27</th>\n",
              "      <td>social media</td>\n",
              "      <td>Cloud</td>\n",
              "      <td>spark</td>\n",
              "      <td>6</td>\n",
              "    </tr>\n",
              "    <tr>\n",
              "      <th>20</th>\n",
              "      <td>social media</td>\n",
              "      <td>SS</td>\n",
              "      <td>communication</td>\n",
              "      <td>5</td>\n",
              "    </tr>\n",
              "    <tr>\n",
              "      <th>39</th>\n",
              "      <td>social media</td>\n",
              "      <td>DE</td>\n",
              "      <td>modeling</td>\n",
              "      <td>5</td>\n",
              "    </tr>\n",
              "    <tr>\n",
              "      <th>7</th>\n",
              "      <td>social media</td>\n",
              "      <td>ML</td>\n",
              "      <td>recommendation</td>\n",
              "      <td>5</td>\n",
              "    </tr>\n",
              "  </tbody>\n",
              "</table>\n",
              "</div>"
            ],
            "text/plain": [
              "        Category Subject            Keyword  Count\n",
              "1   social media      SS        experience      60\n",
              "21  social media      ML  machine learning      24\n",
              "13  social media      Py            python      12\n",
              "0   social media   Stats      quantitative      10\n",
              "12  social media      DE               sql       8\n",
              "17  social media       R                 r       7\n",
              "27  social media   Cloud             spark       6\n",
              "20  social media      SS     communication       5\n",
              "39  social media      DE          modeling       5\n",
              "7   social media      ML    recommendation       5"
            ]
          },
          "metadata": {
            "tags": []
          }
        },
        {
          "output_type": "execute_result",
          "data": {
            "text/plain": [
              "<matplotlib.axes._subplots.AxesSubplot at 0x7f1c6cfcb7b8>"
            ]
          },
          "metadata": {
            "tags": []
          },
          "execution_count": 73
        },
        {
          "output_type": "display_data",
          "data": {
            "image/png": "[encoded data removed]",
            "text/plain": [
              "<Figure size 432x288 with 1 Axes>"
            ]
          },
          "metadata": {
            "tags": []
          }
        }
      ]
    },
    {
      "cell_type": "code",
      "metadata": {
        "id": "yPqXB3K9dwxu",
        "colab_type": "code",
        "outputId": "aff88603-47cc-49b0-e7ad-f6f6a2b33097",
        "colab": {
          "base_uri": "https://localhost:8080/",
          "height": 638
        }
      },
      "source": [
        "df_match_consumer = match_kw(df_jd_clean, column_name='consumer ')\n",
        "display(df_match_consumer.head(10))\n",
        "\n",
        "sns.barplot(x=\"Count\", y=\"Keyword\", data=df_match_consumer.head(15))"
      ],
      "execution_count": 0,
      "outputs": [
        {
          "output_type": "display_data",
          "data": {
            "text/html": [
              "<div>\n",
              "<style scoped>\n",
              "    .dataframe tbody tr th:only-of-type {\n",
              "        vertical-align: middle;\n",
              "    }\n",
              "\n",
              "    .dataframe tbody tr th {\n",
              "        vertical-align: top;\n",
              "    }\n",
              "\n",
              "    .dataframe thead th {\n",
              "        text-align: right;\n",
              "    }\n",
              "</style>\n",
              "<table border=\"1\" class=\"dataframe\">\n",
              "  <thead>\n",
              "    <tr style=\"text-align: right;\">\n",
              "      <th></th>\n",
              "      <th>Category</th>\n",
              "      <th>Subject</th>\n",
              "      <th>Keyword</th>\n",
              "      <th>Count</th>\n",
              "    </tr>\n",
              "  </thead>\n",
              "  <tbody>\n",
              "    <tr>\n",
              "      <th>2</th>\n",
              "      <td>consumer</td>\n",
              "      <td>SS</td>\n",
              "      <td>experience</td>\n",
              "      <td>21</td>\n",
              "    </tr>\n",
              "    <tr>\n",
              "      <th>29</th>\n",
              "      <td>consumer</td>\n",
              "      <td>R</td>\n",
              "      <td>r</td>\n",
              "      <td>9</td>\n",
              "    </tr>\n",
              "    <tr>\n",
              "      <th>6</th>\n",
              "      <td>consumer</td>\n",
              "      <td>DE</td>\n",
              "      <td>modeling</td>\n",
              "      <td>6</td>\n",
              "    </tr>\n",
              "    <tr>\n",
              "      <th>25</th>\n",
              "      <td>consumer</td>\n",
              "      <td>Py</td>\n",
              "      <td>python</td>\n",
              "      <td>6</td>\n",
              "    </tr>\n",
              "    <tr>\n",
              "      <th>3</th>\n",
              "      <td>consumer</td>\n",
              "      <td>SS</td>\n",
              "      <td>analytical</td>\n",
              "      <td>5</td>\n",
              "    </tr>\n",
              "    <tr>\n",
              "      <th>8</th>\n",
              "      <td>consumer</td>\n",
              "      <td>Vis</td>\n",
              "      <td>visualization</td>\n",
              "      <td>5</td>\n",
              "    </tr>\n",
              "    <tr>\n",
              "      <th>28</th>\n",
              "      <td>consumer</td>\n",
              "      <td>DE</td>\n",
              "      <td>sql</td>\n",
              "      <td>5</td>\n",
              "    </tr>\n",
              "    <tr>\n",
              "      <th>0</th>\n",
              "      <td>consumer</td>\n",
              "      <td>SS</td>\n",
              "      <td>cross functional</td>\n",
              "      <td>4</td>\n",
              "    </tr>\n",
              "    <tr>\n",
              "      <th>4</th>\n",
              "      <td>consumer</td>\n",
              "      <td>Stats</td>\n",
              "      <td>quantitative</td>\n",
              "      <td>4</td>\n",
              "    </tr>\n",
              "    <tr>\n",
              "      <th>5</th>\n",
              "      <td>consumer</td>\n",
              "      <td>ML</td>\n",
              "      <td>regression</td>\n",
              "      <td>4</td>\n",
              "    </tr>\n",
              "  </tbody>\n",
              "</table>\n",
              "</div>"
            ],
            "text/plain": [
              "     Category Subject            Keyword  Count\n",
              "2   consumer       SS        experience      21\n",
              "29  consumer        R                 r       9\n",
              "6   consumer       DE          modeling       6\n",
              "25  consumer       Py            python       6\n",
              "3   consumer       SS        analytical       5\n",
              "8   consumer      Vis     visualization       5\n",
              "28  consumer       DE               sql       5\n",
              "0   consumer       SS  cross functional       4\n",
              "4   consumer    Stats      quantitative       4\n",
              "5   consumer       ML        regression       4"
            ]
          },
          "metadata": {
            "tags": []
          }
        },
        {
          "output_type": "execute_result",
          "data": {
            "text/plain": [
              "<matplotlib.axes._subplots.AxesSubplot at 0x7f1c6cf0a780>"
            ]
          },
          "metadata": {
            "tags": []
          },
          "execution_count": 74
        },
        {
          "output_type": "display_data",
          "data": {
            "image/png": "[encoded data removed]",
            "text/plain": [
              "<Figure size 432x288 with 1 Axes>"
            ]
          },
          "metadata": {
            "tags": []
          }
        }
      ]
    },
    {
      "cell_type": "code",
      "metadata": {
        "id": "NWqcUryVd8_0",
        "colab_type": "code",
        "outputId": "6b3ae08f-a795-44fd-bd35-41a1e2770ec2",
        "colab": {
          "base_uri": "https://localhost:8080/",
          "height": 638
        }
      },
      "source": [
        "\n",
        "df_match_info = match_kw(df_jd_clean, column_name='Information')\n",
        "display(df_match_info.head(10))\n",
        "\n",
        "sns.barplot(x=\"Count\", y=\"Keyword\", data=df_match_info.head(15))"
      ],
      "execution_count": 0,
      "outputs": [
        {
          "output_type": "display_data",
          "data": {
            "text/html": [
              "<div>\n",
              "<style scoped>\n",
              "    .dataframe tbody tr th:only-of-type {\n",
              "        vertical-align: middle;\n",
              "    }\n",
              "\n",
              "    .dataframe tbody tr th {\n",
              "        vertical-align: top;\n",
              "    }\n",
              "\n",
              "    .dataframe thead th {\n",
              "        text-align: right;\n",
              "    }\n",
              "</style>\n",
              "<table border=\"1\" class=\"dataframe\">\n",
              "  <thead>\n",
              "    <tr style=\"text-align: right;\">\n",
              "      <th></th>\n",
              "      <th>Category</th>\n",
              "      <th>Subject</th>\n",
              "      <th>Keyword</th>\n",
              "      <th>Count</th>\n",
              "    </tr>\n",
              "  </thead>\n",
              "  <tbody>\n",
              "    <tr>\n",
              "      <th>2</th>\n",
              "      <td>information</td>\n",
              "      <td>SS</td>\n",
              "      <td>experience</td>\n",
              "      <td>19</td>\n",
              "    </tr>\n",
              "    <tr>\n",
              "      <th>0</th>\n",
              "      <td>information</td>\n",
              "      <td>Cloud</td>\n",
              "      <td>google</td>\n",
              "      <td>7</td>\n",
              "    </tr>\n",
              "    <tr>\n",
              "      <th>9</th>\n",
              "      <td>information</td>\n",
              "      <td>ML</td>\n",
              "      <td>machine learning</td>\n",
              "      <td>6</td>\n",
              "    </tr>\n",
              "    <tr>\n",
              "      <th>1</th>\n",
              "      <td>information</td>\n",
              "      <td>Stats</td>\n",
              "      <td>quantitative</td>\n",
              "      <td>6</td>\n",
              "    </tr>\n",
              "    <tr>\n",
              "      <th>14</th>\n",
              "      <td>information</td>\n",
              "      <td>DE</td>\n",
              "      <td>pipeline</td>\n",
              "      <td>6</td>\n",
              "    </tr>\n",
              "    <tr>\n",
              "      <th>5</th>\n",
              "      <td>information</td>\n",
              "      <td>Py</td>\n",
              "      <td>python</td>\n",
              "      <td>4</td>\n",
              "    </tr>\n",
              "    <tr>\n",
              "      <th>17</th>\n",
              "      <td>information</td>\n",
              "      <td>DE</td>\n",
              "      <td>modeling</td>\n",
              "      <td>4</td>\n",
              "    </tr>\n",
              "    <tr>\n",
              "      <th>21</th>\n",
              "      <td>information</td>\n",
              "      <td>Cloud</td>\n",
              "      <td>spark</td>\n",
              "      <td>3</td>\n",
              "    </tr>\n",
              "    <tr>\n",
              "      <th>10</th>\n",
              "      <td>information</td>\n",
              "      <td>Stats</td>\n",
              "      <td>mathematical</td>\n",
              "      <td>3</td>\n",
              "    </tr>\n",
              "    <tr>\n",
              "      <th>19</th>\n",
              "      <td>information</td>\n",
              "      <td>ML</td>\n",
              "      <td>clustering</td>\n",
              "      <td>3</td>\n",
              "    </tr>\n",
              "  </tbody>\n",
              "</table>\n",
              "</div>"
            ],
            "text/plain": [
              "       Category Subject            Keyword  Count\n",
              "2   information      SS        experience      19\n",
              "0   information   Cloud            google       7\n",
              "9   information      ML  machine learning       6\n",
              "1   information   Stats      quantitative       6\n",
              "14  information      DE          pipeline       6\n",
              "5   information      Py            python       4\n",
              "17  information      DE          modeling       4\n",
              "21  information   Cloud             spark       3\n",
              "10  information   Stats      mathematical       3\n",
              "19  information      ML        clustering       3"
            ]
          },
          "metadata": {
            "tags": []
          }
        },
        {
          "output_type": "execute_result",
          "data": {
            "text/plain": [
              "<matplotlib.axes._subplots.AxesSubplot at 0x7f1c6cfacfd0>"
            ]
          },
          "metadata": {
            "tags": []
          },
          "execution_count": 75
        },
        {
          "output_type": "display_data",
          "data": {
            "image/png": "[encoded data removed]",
            "text/plain": [
              "<Figure size 432x288 with 1 Axes>"
            ]
          },
          "metadata": {
            "tags": []
          }
        }
      ]
    }
  ]
}